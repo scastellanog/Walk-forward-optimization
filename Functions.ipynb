{
 "cells": [
  {
   "cell_type": "markdown",
   "metadata": {},
   "source": [
    "## Imports"
   ]
  },
  {
   "cell_type": "code",
   "execution_count": 6,
   "metadata": {
    "ExecuteTime": {
     "end_time": "2020-11-10T20:20:18.231810Z",
     "start_time": "2020-11-10T20:20:18.007328Z"
    }
   },
   "outputs": [
    {
     "data": {
      "text/html": [
       "<style>.output_png img {display: block;margin-left: auto;margin-right: auto;text-align: center;vertical-align: middle;} </style>"
      ],
      "text/plain": [
       "<IPython.core.display.HTML object>"
      ]
     },
     "execution_count": 6,
     "metadata": {},
     "output_type": "execute_result"
    }
   ],
   "source": [
    "#Delete me\n",
    "# Settings for notebook visualization\n",
    "from IPython.core.interactiveshell import InteractiveShell\n",
    "InteractiveShell.ast_node_interactivity = 'all'\n",
    "%matplotlib inline\n",
    "from IPython.core.display import HTML\n",
    "HTML(\"\"\"<style>.output_png img {display: block;margin-left: auto;margin-right: auto;text-align: center;vertical-align: middle;} </style>\"\"\")"
   ]
  },
  {
   "cell_type": "code",
   "execution_count": 7,
   "metadata": {
    "ExecuteTime": {
     "end_time": "2020-11-10T20:20:18.834902Z",
     "start_time": "2020-11-10T20:20:18.233744Z"
    },
    "code_folding": []
   },
   "outputs": [
    {
     "data": {
      "text/html": [
       "<style>.output_png img {display: block;margin-left: auto;margin-right: auto;} </style>"
      ],
      "text/plain": [
       "<IPython.core.display.HTML object>"
      ]
     },
     "execution_count": 7,
     "metadata": {},
     "output_type": "execute_result"
    }
   ],
   "source": [
    "# Necessary imports\n",
    "import yfinance as yf\n",
    "import numpy as np\n",
    "import pandas as pd\n",
    "import matplotlib.pyplot as plt\n",
    "import seaborn as sns\n",
    "import quantstats as qs\n",
    "import statistics as st\n",
    "from datetime import datetime, timedelta\n",
    "from matplotlib.colors import DivergingNorm\n",
    "from scipy.signal import convolve2d\n",
    "from IPython.core.display import HTML\n",
    "HTML(\"\"\"<style>.output_png img {display: block;margin-left: auto;margin-right: auto;} </style>\"\"\")"
   ]
  },
  {
   "cell_type": "code",
   "execution_count": 8,
   "metadata": {
    "ExecuteTime": {
     "end_time": "2020-11-10T20:20:18.843581Z",
     "start_time": "2020-11-10T20:20:18.838054Z"
    },
    "code_folding": []
   },
   "outputs": [],
   "source": [
    "# Other settings\n",
    "qs.extend_pandas()\n",
    "\n",
    "# Settings for plot visualization\n",
    "plt.style.use('seaborn-darkgrid')\n",
    "\n",
    "#plt.rcParams.keys()\n",
    "plt.rcParams['figure.dpi'] = 200\n",
    "plt.rcParams[\"figure.figsize\"] = (12,3.5) #(12,5)\n",
    "plt.rcParams['axes.grid'] = True\n",
    "plt.rcParams['grid.linewidth'] = 0.4\n",
    "#plt.rcParams['xtick.label.allignment'] = 'center'\n",
    "\n",
    "plt.rcParams['xtick.bottom'] = plt.rcParams['ytick.labelright'] = True\n",
    "plt.rcParams['ytick.left'] = plt.rcParams['ytick.right'] = True\n",
    "\n",
    "plt.rcParams['lines.linewidth'] = 1.2\n",
    "#plt.rcParams['lines.markersize'] = 0.5\n",
    "plt.rcParams['patch.edgecolor'] = 'k' # Legend border \n",
    "plt.rcParams['legend.facecolor'] = 'w'\n",
    "plt.rcParams[\"legend.frameon\"] = True\n",
    "\n",
    "np.set_printoptions(edgeitems=40, linewidth=1000)\n",
    "\n",
    "pd.set_option(\"display.precision\", 6)\n",
    "pd.set_option('display.max_columns', 500)\n",
    "pd.set_option('display.width', 1000)\n",
    "#print(\"Notebook parameters set correctly\")"
   ]
  },
  {
   "cell_type": "markdown",
   "metadata": {},
   "source": [
    "## Data"
   ]
  },
  {
   "cell_type": "code",
   "execution_count": 9,
   "metadata": {
    "ExecuteTime": {
     "end_time": "2020-11-10T20:20:18.849012Z",
     "start_time": "2020-11-10T20:20:18.846443Z"
    }
   },
   "outputs": [],
   "source": [
    "ini_equity_default = 100\n",
    "commision_default = 0.000111538462 # 2/130000 + 12.5/130000\n",
    "#commision_default = 0.0005 # Slightly Bbgger commision, for better visualization\n",
    "# 0.01 = 1% of the cummulative return (equity)"
   ]
  },
  {
   "cell_type": "code",
   "execution_count": 63,
   "metadata": {
    "ExecuteTime": {
     "end_time": "2020-11-10T20:56:38.366671Z",
     "start_time": "2020-11-10T20:56:37.197719Z"
    }
   },
   "outputs": [
    {
     "name": "stdout",
     "output_type": "stream",
     "text": [
      "[*********************100%***********************]  1 of 1 completed\n",
      "[*********************100%***********************]  1 of 1 completed\n"
     ]
    },
    {
     "data": {
      "text/html": [
       "<div>\n",
       "<style scoped>\n",
       "    .dataframe tbody tr th:only-of-type {\n",
       "        vertical-align: middle;\n",
       "    }\n",
       "\n",
       "    .dataframe tbody tr th {\n",
       "        vertical-align: top;\n",
       "    }\n",
       "\n",
       "    .dataframe thead th {\n",
       "        text-align: right;\n",
       "    }\n",
       "</style>\n",
       "<table border=\"1\" class=\"dataframe\">\n",
       "  <thead>\n",
       "    <tr style=\"text-align: right;\">\n",
       "      <th></th>\n",
       "      <th>13W</th>\n",
       "      <th>10Y</th>\n",
       "    </tr>\n",
       "    <tr>\n",
       "      <th>Date</th>\n",
       "      <th></th>\n",
       "      <th></th>\n",
       "    </tr>\n",
       "  </thead>\n",
       "  <tbody>\n",
       "    <tr>\n",
       "      <th>2020-11-04</th>\n",
       "      <td>0.083</td>\n",
       "      <td>0.768</td>\n",
       "    </tr>\n",
       "    <tr>\n",
       "      <th>2020-11-05</th>\n",
       "      <td>0.085</td>\n",
       "      <td>0.776</td>\n",
       "    </tr>\n",
       "    <tr>\n",
       "      <th>2020-11-06</th>\n",
       "      <td>0.083</td>\n",
       "      <td>0.820</td>\n",
       "    </tr>\n",
       "    <tr>\n",
       "      <th>2020-11-09</th>\n",
       "      <td>0.088</td>\n",
       "      <td>0.958</td>\n",
       "    </tr>\n",
       "    <tr>\n",
       "      <th>2020-11-10</th>\n",
       "      <td>0.090</td>\n",
       "      <td>0.972</td>\n",
       "    </tr>\n",
       "  </tbody>\n",
       "</table>\n",
       "</div>"
      ],
      "text/plain": [
       "              13W    10Y\n",
       "Date                    \n",
       "2020-11-04  0.083  0.768\n",
       "2020-11-05  0.085  0.776\n",
       "2020-11-06  0.083  0.820\n",
       "2020-11-09  0.088  0.958\n",
       "2020-11-10  0.090  0.972"
      ]
     },
     "execution_count": 63,
     "metadata": {},
     "output_type": "execute_result"
    }
   ],
   "source": [
    "#https://finance.yahoo.com/quote/%5EIRX?p=^IRX&.tsrc=fin-srch\n",
    "# 13-week treasury bills\n",
    "# All treasury bills from yahoo: https://finance.yahoo.com/bonds?.tsrc=fin-srch\n",
    "# rf_13w = yf.download(\"^IRX\", auto_adjust=True, start=\"1928-01-01\")\n",
    "# rf_10y = yf.download(\"^TNX\", auto_adjust=True, start=\"1928-01-01\")\n",
    "# rf = pd.concat([rf_13w['Close'], rf_10y['Close']], axis=1)\n",
    "# rf.columns = ['13W', '10Y']\n",
    "# rf.tail()\n",
    "#rf.plot()"
   ]
  },
  {
   "cell_type": "code",
   "execution_count": 10,
   "metadata": {
    "ExecuteTime": {
     "end_time": "2020-11-10T20:20:18.854605Z",
     "start_time": "2020-11-10T20:20:18.850618Z"
    },
    "code_folding": []
   },
   "outputs": [],
   "source": [
    "# Load DF with SP500 data\n",
    "def get_sp500_data(start_date=\"1928-01-01\", from_local_file=True, save_to_file=False):\n",
    "    if from_local_file == True:\n",
    "        data = pd.read_pickle('data/SP500_hist_data.pkl')\n",
    "    else:\n",
    "        # Download data from yfinance\n",
    "        data = yf.download(\"^GSPC\", auto_adjust=True, start=start_date)\n",
    "        if save_to_file == True:\n",
    "            data.to_pickle(\"data/SP500_hist_data.pkl\")\n",
    "    return data"
   ]
  },
  {
   "cell_type": "code",
   "execution_count": 89,
   "metadata": {
    "ExecuteTime": {
     "end_time": "2020-11-12T02:12:22.814610Z",
     "start_time": "2020-11-12T02:12:22.801351Z"
    }
   },
   "outputs": [],
   "source": [
    "full_df = get_sp500_data()\n",
    "full_df['Market_daily_ret'] = full_df['Close'].pct_change().fillna((full_df['Close']-full_df['Open'])/full_df['Open'])\n",
    "full_df = full_df[['Close', 'Open', 'Market_daily_ret']]"
   ]
  },
  {
   "cell_type": "markdown",
   "metadata": {},
   "source": [
    "## Strategy functions"
   ]
  },
  {
   "cell_type": "code",
   "execution_count": 75,
   "metadata": {
    "ExecuteTime": {
     "end_time": "2020-11-11T17:45:24.668621Z",
     "start_time": "2020-11-11T17:45:24.664076Z"
    }
   },
   "outputs": [],
   "source": [
    "# Define if the strategy position (1=fast_ma higher than slow_ma, -1=short)\n",
    "def get_strategy_position_buy_and_hold(df):\n",
    "    position = pd.Series(1.0, index=df.index, dtype='float64')\n",
    "    \n",
    "    return position"
   ]
  },
  {
   "cell_type": "code",
   "execution_count": 12,
   "metadata": {
    "ExecuteTime": {
     "end_time": "2020-11-10T20:20:18.876444Z",
     "start_time": "2020-11-10T20:20:18.872625Z"
    }
   },
   "outputs": [],
   "source": [
    "# Define if the strategy position (1=fast_ma higher than slow_ma, -1=short)\n",
    "def get_strategy_position_ma(df, fast_ma=0, slow_ma=0):\n",
    "    df['fast_ma'] = full_df['Close'].rolling(window=fast_ma).mean()\n",
    "    df['slow_ma'] = full_df['Close'].rolling(window=slow_ma).mean()\n",
    "    df['fast-slow'] = df['fast_ma'].sub(df['slow_ma'])\n",
    "    \n",
    "    conditions = [df['fast-slow'] > 0, df['fast-slow'] < 0, df['fast-slow'] == 0]\n",
    "    signals = [1.0, 0.0, 1.0]\n",
    "\n",
    "    position = pd.Series(np.select(conditions, signals), index=df.index, dtype='float64')\n",
    "        \n",
    "    return position"
   ]
  },
  {
   "cell_type": "markdown",
   "metadata": {},
   "source": [
    "## Backtest functions"
   ]
  },
  {
   "cell_type": "code",
   "execution_count": 13,
   "metadata": {
    "ExecuteTime": {
     "end_time": "2020-11-10T20:20:18.883797Z",
     "start_time": "2020-11-10T20:20:18.880673Z"
    },
    "code_folding": []
   },
   "outputs": [],
   "source": [
    "def get_cum_ret_from_daily_pct_ret(daily_returns, costs=0.0, ini_equity=ini_equity_default):    \n",
    "    if (isinstance(costs, pd.Series) == False):\n",
    "        costs = pd.Series(0, index=daily_returns.index)\n",
    "    \n",
    "    # Calculate cummulative returns as: cum_returns = ini_equity * CUMPROD ((1+daily_ret) * (1-costs))\n",
    "    cum_returns = daily_returns.add(1).mul(1-costs).cumprod().mul(ini_equity)\n",
    "    \n",
    "    return cum_returns"
   ]
  },
  {
   "cell_type": "code",
   "execution_count": 15,
   "metadata": {
    "ExecuteTime": {
     "end_time": "2020-11-10T20:20:18.900779Z",
     "start_time": "2020-11-10T20:20:18.893938Z"
    },
    "code_folding": []
   },
   "outputs": [],
   "source": [
    "def backtest_print_plot(df, fast_ma=0, slow_ma=0, previous_position=0, ini_equity=ini_equity_default, commision=commision_default, figsize=(12,3.5), legend=False): #(12,5)\n",
    "    df, _, ret_strat, ir_strat= backtest_strat_ma(df, fast_ma=fast_ma, slow_ma=slow_ma, ini_equity=ini_equity, previous_position=previous_position, commision=commision)\n",
    "    print_backtest_stats_ma(df, fast_ma=fast_ma, slow_ma=slow_ma, ret_strat=ret_strat, ir_strat=ir_strat)\n",
    "    show_plot(df, figsize=figsize, legend=legend)\n",
    "    return df"
   ]
  },
  {
   "cell_type": "code",
   "execution_count": 16,
   "metadata": {
    "ExecuteTime": {
     "end_time": "2020-11-10T20:20:18.911653Z",
     "start_time": "2020-11-10T20:20:18.904166Z"
    },
    "code_folding": []
   },
   "outputs": [
    {
     "data": {
      "text/plain": [
       "'\\nbacktest_strat_ma does the backtest of an MA crossover strategy. It adds the following columns to the received dataframe:\\n'"
      ]
     },
     "execution_count": 16,
     "metadata": {},
     "output_type": "execute_result"
    }
   ],
   "source": [
    "\"\"\"\n",
    "backtest_strat_ma does the backtest of an MA crossover strategy. It adds the following columns to the received dataframe:\n",
    "\"\"\"\n",
    "def backtest_strat_ma(df, fast_ma=0, slow_ma=0, ini_equity=ini_equity_default, previous_position=0, commision=commision_default):\n",
    "    if ((fast_ma == slow_ma == 0) | (fast_ma >= slow_ma)): # Long only\n",
    "        first_position = 1\n",
    "        df['Strat_position'] = 1\n",
    "        df['Long_only'] = 1\n",
    "    else:\n",
    "        loc = full_df.index.get_loc(df.index[0])\n",
    "        first_position = get_strategy_position_ma(full_df.iloc[loc - 1].to_frame().T, fast_ma, slow_ma)[0]\n",
    "        df['Strat_position'] = get_strategy_position_ma(df.copy(), fast_ma, slow_ma)\n",
    "        df['Long_only'] = 0\n",
    "    \n",
    "    df = get_returns_from_strat_position(df, ini_equity=ini_equity, previous_position=previous_position, first_position=first_position, commision=commision)\n",
    "#    df.columns= ['Close', 'Market_daily_ret', 'Strat_daily_ret', 'Market_cum_ret', 'Strat_cum_ret', 'Costs', 'Strat_position', 'Long_only']\n",
    "    \n",
    "    last_position = df.loc[df.index[-2], 'Strat_position']\n",
    "    df.loc[df.index[-1], 'Strat_position'] = np.nan\n",
    "    \n",
    "    ret_strat = (df.loc[df.index[-1], 'Strat_cum_ret'] / ini_equity) * 100\n",
    "    ir_strat = calculate_information_ratio(df['Strat_cum_ret'])\n",
    "    \n",
    "    return df, last_position, ret_strat, ir_strat"
   ]
  },
  {
   "cell_type": "code",
   "execution_count": 91,
   "metadata": {
    "ExecuteTime": {
     "end_time": "2020-11-12T03:32:51.942761Z",
     "start_time": "2020-11-12T03:32:51.932937Z"
    },
    "code_folding": []
   },
   "outputs": [
    {
     "data": {
      "text/plain": [
       "\"\\nGiven 'Market_daily_ret' and 'Strat_position', adds to df: 'Strat_daily_ret', 'Market_cum_ret', 'Strat_cum_ret', 'Costs'\\nFormula:\\n   - Strat_cum_ret = [(1+Market_daily_ret*Strat_position.shift()) * (1-commission_paid_pct)].cumprod() * ini_equity\\n\""
      ]
     },
     "execution_count": 91,
     "metadata": {},
     "output_type": "execute_result"
    }
   ],
   "source": [
    "\"\"\"\n",
    "Given 'Market_daily_ret' and 'Strat_position', adds to df: 'Strat_daily_ret', 'Market_cum_ret', 'Strat_cum_ret', 'Costs'\n",
    "Formula:\n",
    "   - Strat_cum_ret = [(1+Market_daily_ret*Strat_position.shift()) * (1-commission_paid_pct)].cumprod() * ini_equity\n",
    "\"\"\"\n",
    "def get_returns_from_strat_position(df, ini_equity=ini_equity_default, previous_position=0, first_position=0 , commision=commision_default):\n",
    "    # Previous_position only affect costs. represents the position where we come from. It will be used to determine if we change a position right before our backtest\n",
    "    # First position affects cummulative returns. Position for the first day will be the same as for the second day\n",
    "    \n",
    "    # commission_paid_pct will place a commision on the days that we have a change in Strat_position\n",
    "    df['commission_paid_pct'] = df['Strat_position'].sub(df['Strat_position'].shift(fill_value=previous_position)) \\\n",
    "                                .abs() \\\n",
    "                                .mul(commision)\n",
    "    \n",
    "    # Strat_cum_ret = [(1+Market_daily_ret*Strat_position) * (1-commission_paid_pct)].cumprod() * ini_equity\n",
    "    df['Strat_cum_ret'] = df['Market_daily_ret'].mul(df['Strat_position'].shift(fill_value=first_position)).add(1) \\\n",
    "                            .mul(1-df['commission_paid_pct']) \\\n",
    "                            .cumprod() \\\n",
    "                            .mul(ini_equity)\n",
    "#    df.loc[df.index[0], 'Strat_cum_ret'] = ini_equity * (1 + df['Market_daily_ret'][0]*df['Strat_position'][0]) * (1-df['commission_paid_pct'][0])\n",
    "    \n",
    "    # Costs (in USD) = Strat_cum_ret.shift() * [[Market_Daily_ret*Strat_position.shift()] + 1] * (commission_in_pct)\n",
    "    df['Costs'] = df['Strat_cum_ret'].shift(fill_value=ini_equity) \\\n",
    "            .mul(df['Market_daily_ret'].mul(df['Strat_position'].shift(fill_value=previous_position)).add(1)) \\\n",
    "            .mul(df['commission_paid_pct'])\n",
    "\n",
    "    df['Strat_daily_ret'] = df['Strat_cum_ret'].pct_change(fill_value=ini_equity)\n",
    "    \n",
    "    # Market returns\n",
    "    df['Market_cum_ret'] = get_cum_ret_from_daily_pct_ret(df['Market_daily_ret'], ini_equity=ini_equity)\n",
    "    \n",
    "    cols = ['Close', 'Market_daily_ret', 'Strat_daily_ret', 'Strat_position', 'Costs', 'Long_only', 'Market_cum_ret', 'Strat_cum_ret']\n",
    "    df = df.loc[:, cols]\n",
    "\n",
    "    df.loc[df.index[-1], 'Strat_position'] = np.nan # We leave the last position (position for the following day) as NaN    \n",
    "    \n",
    "    return df"
   ]
  },
  {
   "cell_type": "markdown",
   "metadata": {},
   "source": [
    "## Walk-forward functions"
   ]
  },
  {
   "cell_type": "code",
   "execution_count": 90,
   "metadata": {
    "ExecuteTime": {
     "end_time": "2020-11-12T03:30:39.872451Z",
     "start_time": "2020-11-12T03:30:39.865938Z"
    },
    "code_folding": [
     6
    ]
   },
   "outputs": [
    {
     "data": {
      "text/plain": [
       "\"\\nBuilds the cummulative return of the strategy and market between two dates.\\nReceives a df with the performance of several OOS periods joined in 'Strat_daily_ret'\\n\""
      ]
     },
     "execution_count": 90,
     "metadata": {},
     "output_type": "execute_result"
    }
   ],
   "source": [
    "\"\"\"\n",
    "Builds the cummulative return of the strategy and market between two dates.\n",
    "Receives a df with the performance of several OOS periods joined in 'Strat_daily_ret'\n",
    "\"\"\"\n",
    "def prepare_oos_df(df, ini_equity=ini_equity_default, commision=commision_default):\n",
    "    cols = ['Close', 'Market_daily_ret', 'Strat_daily_ret', 'Strat_position', 'Long_only', 'Costs']\n",
    "    results_df = df[cols].copy()\n",
    "\n",
    "    first_pos = results_df.loc[results_df.index[0], 'Strat_position'] \n",
    "    last_pos = results_df.loc[results_df.index[-2], 'Strat_position']\n",
    "    \n",
    "    # Replace NaN values in 'Strat_position' (last one from each OOS window) by the next 'Strat_postion' value\n",
    "    results_df['Strat_position'].fillna(results_df['Strat_position'].shift(-1, fill_value=last_pos), inplace=True)\n",
    "    \n",
    "    results_df = get_returns_from_strat_position(results_df, ini_equity=ini_equity, commision=commision, previous_position=0, first_position=first_pos)\n",
    "    \n",
    "    return results_df"
   ]
  },
  {
   "cell_type": "code",
   "execution_count": 19,
   "metadata": {
    "ExecuteTime": {
     "end_time": "2020-11-10T20:20:18.937250Z",
     "start_time": "2020-11-10T20:20:18.933690Z"
    },
    "code_folding": []
   },
   "outputs": [],
   "source": [
    "def print_periods(IS_start_years, IS_end_years, OOS_start_years, OOS_end_years):\n",
    "    print(\"\\tIn SAMPLE\\t\\tOOS\")\n",
    "    for iss, ie, oi, oe in zip(IS_start_years, IS_end_years, OOS_start_years, OOS_end_years):\n",
    "        print(\"{:%Y-%m-%d} : {:%Y-%m-%d} \\t {:%Y-%m-%d} : {:%Y-%m-%d}\".format(iss, ie, oi, oe))\n",
    "    print(\"Number of periods: {} : {}     {} : {}\".format(len(IS_start_years), len(IS_end_years), len(OOS_start_years), len(OOS_end_years)))"
   ]
  },
  {
   "cell_type": "code",
   "execution_count": 20,
   "metadata": {
    "ExecuteTime": {
     "end_time": "2020-11-10T20:20:18.945871Z",
     "start_time": "2020-11-10T20:20:18.938905Z"
    },
    "code_folding": []
   },
   "outputs": [
    {
     "data": {
      "text/plain": [
       "'\\nChecks how many nan are around each element of a matrix. Useful to see the real numbers of neighbors of each element in the matrix.\\nReceives a matrix of type numpy.ndarray\\n'"
      ]
     },
     "execution_count": 20,
     "metadata": {},
     "output_type": "execute_result"
    }
   ],
   "source": [
    "\"\"\"\n",
    "Checks how many nan are around each element of a matrix. Useful to see the real numbers of neighbors of each element in the matrix.\n",
    "Receives a matrix of type numpy.ndarray\n",
    "\"\"\"\n",
    "def check_nan_around_matrix(matrix):\n",
    "    n_rows = matrix.shape[0]\n",
    "    n_cols = matrix.shape[1]\n",
    "\n",
    "    num_nan_around = np.full((n_rows, n_cols), 0)\n",
    "\n",
    "    for i in range(n_rows):\n",
    "        for j in range(n_cols):\n",
    "            counter = 0\n",
    "            for ii in range(i-1, i+2):\n",
    "                if (ii >= 0) and (ii < n_rows):\n",
    "                    for jj in range(j-1, j+2):\n",
    "                        if (jj >= 0) and (jj < n_cols):\n",
    "                            if np.isnan(matrix[ii, jj]) == True:\n",
    "                                counter += 1\n",
    "            num_nan_around[i,j] = counter\n",
    "\n",
    "    return num_nan_around"
   ]
  },
  {
   "cell_type": "code",
   "execution_count": 21,
   "metadata": {
    "ExecuteTime": {
     "end_time": "2020-11-10T20:20:18.954958Z",
     "start_time": "2020-11-10T20:20:18.947454Z"
    },
    "code_folding": []
   },
   "outputs": [
    {
     "data": {
      "text/plain": [
       "'\\nChecks how many neighbors has each element of a matrix.\\n'"
      ]
     },
     "execution_count": 21,
     "metadata": {},
     "output_type": "execute_result"
    }
   ],
   "source": [
    "\"\"\"\n",
    "Checks how many neighbors has each element of a matrix.\n",
    "\"\"\"\n",
    "def get_num_neighbors(param_1_list, param_2_list):\n",
    "    n_rows = len(param_1_list)\n",
    "    n_cols = len(param_1_list)\n",
    "    \n",
    "    n_neighbors = np.full((n_rows, n_cols), 8.0) # Default number of neighbors of each cell\n",
    "    n_neighbors[[0,n_cols-1], :] = n_neighbors[:, [0,n_cols-1]] = 5 # Edges\n",
    "    n_neighbors[[0,n_cols-1], [0,n_cols-1]] = n_neighbors[[n_rows-1,0], [0,n_cols-1]] = 3 # Corners\n",
    "\n",
    "    for i in range(n_rows):\n",
    "        for j in range(n_cols):\n",
    "            if param_1_list[i] >= param_2_list[j]:\n",
    "                n_neighbors[i,j] = np.nan\n",
    "\n",
    "    num_notnan_neighbors = n_neighbors - check_nan_around_matrix(n_neighbors)\n",
    "    \n",
    "    return num_notnan_neighbors"
   ]
  },
  {
   "cell_type": "code",
   "execution_count": 22,
   "metadata": {
    "ExecuteTime": {
     "end_time": "2020-11-10T20:20:18.963532Z",
     "start_time": "2020-11-10T20:20:18.957562Z"
    },
    "code_folding": []
   },
   "outputs": [
    {
     "data": {
      "text/plain": [
       "'\\nReceives SR of market and each tested parameter combination to return the best one. \\nBest one = max((SR of each element)*50% + (average SR of its neightbors)*50%)\\n'"
      ]
     },
     "execution_count": 22,
     "metadata": {},
     "output_type": "execute_result"
    }
   ],
   "source": [
    "\"\"\"\n",
    "Receives SR of market and each tested parameter combination to return the best one. \n",
    "Best one = max((SR of each element)*50% + (average SR of its neightbors)*50%)\n",
    "\"\"\"\n",
    "def get_best_combination(market_ir, results_ir, num_neighbors_matrix, allow_long_only=True):\n",
    "    n = len(results_ir)\n",
    "\n",
    "    sum_ir_neighbors = convolve2d(results_ir, np.ones((3,3)),'same') - results_ir\n",
    "        \n",
    "    results_ir_neighbors = np.divide(sum_ir_neighbors, num_neighbors_matrix)\n",
    "    \n",
    "    # (Individual SR + neighbors SR) / 2\n",
    "    results_ir_combined = np.divide(np.add(results_ir, results_ir_neighbors), 2)\n",
    "    \n",
    "    results_ir_combined = np.nan_to_num(results_ir_combined, nan=market_ir)\n",
    "    \n",
    "    # Get index from best SR\n",
    "    fast_index, slow_index = np.unravel_index(np.argmax(results_ir_combined, axis=None), results_ir_combined.shape)\n",
    "\n",
    "    #print(\"Individual: {}-{}\".format(fast_ma[fast_index_ind], slow_ma[slow_index_ind]))\n",
    "    #print(\"With NN: {}-{}\".format(fast_ma[fast_index], slow_ma[slow_index]))\n",
    "    #print(\"Best: {}-{}\".format(fast_ma[fast_index], slow_ma[slow_index]))\n",
    "\n",
    "    return fast_index, slow_index, results_ir_combined"
   ]
  },
  {
   "cell_type": "code",
   "execution_count": 23,
   "metadata": {
    "ExecuteTime": {
     "end_time": "2020-11-10T20:20:18.972392Z",
     "start_time": "2020-11-10T20:20:18.965396Z"
    },
    "code_folding": []
   },
   "outputs": [
    {
     "data": {
      "text/plain": [
       "'\\nRuns a backtest with all possible combinations and returns 2 matrices, one with pnl results, and one with SR\\n'"
      ]
     },
     "execution_count": 23,
     "metadata": {},
     "output_type": "execute_result"
    }
   ],
   "source": [
    "\"\"\"\n",
    "Runs a backtest with all possible combinations and returns 2 matrices, one with pnl results, and one with SR\n",
    "In MA crossover strategy, param_1 refers to fast_ma. param_2 refers to slow_ma\n",
    "\n",
    "\"\"\"\n",
    "def run_all_combinations(df, param_1_list, param_2_list, last_position):\n",
    "    results_pnl = np.zeros((len(param_1_list),len(param_2_list)))\n",
    "    results_ir = np.zeros((len(param_1_list),len(param_2_list)))\n",
    "\n",
    "    _, _, SP_pnl, SP_ir = backtest_strat_ma(df, fast_ma=0, slow_ma=0)\n",
    "\n",
    "    for i, param_1 in enumerate(param_1_list):\n",
    "        for j, param_2 in enumerate(param_2_list):\n",
    "            if param_1 < param_2:\n",
    "                _, _, pnl, ir = backtest_strat_ma(df, fast_ma=param_1, slow_ma=param_2, previous_position=last_position)\n",
    "                results_pnl[i,j] = pnl\n",
    "                results_ir[i,j] = ir\n",
    "\n",
    "    return results_pnl, results_ir, SP_ir"
   ]
  },
  {
   "cell_type": "markdown",
   "metadata": {},
   "source": [
    "## Plots"
   ]
  },
  {
   "cell_type": "code",
   "execution_count": 93,
   "metadata": {
    "ExecuteTime": {
     "end_time": "2020-11-12T03:56:30.965698Z",
     "start_time": "2020-11-12T03:56:30.947775Z"
    },
    "code_folding": []
   },
   "outputs": [],
   "source": [
    "def show_plot(df, benchmark=True, position=True, fast_ma=1, slow_ma=1, figsize=(12,3.6), legend=False, with_signals=False): #(12,5)\n",
    "    df_plot = df.copy()\n",
    "    first_day = df_plot.index[0]\n",
    "    last_day = df_plot.index[-1]\n",
    "    \n",
    "    fmt = '%Y-%m-%d' if first_day.year == last_day.year else '%Y'\n",
    "        \n",
    "    columns_colors_ax1 = [('Strat_cum_ret', 'b')]\n",
    "    \n",
    "    title = 'MA crossover strategy ({} : {})'.format(first_day.strftime(fmt), last_day.strftime(fmt))\n",
    "\n",
    "    if (benchmark == True):\n",
    "        title = 'SP500 vs ' + title\n",
    "        columns_colors_ax1.append(('Market_cum_ret', 'k'))\n",
    "\n",
    "    # PLOT\n",
    "    if position == True:\n",
    "        import matplotlib.dates as mdates\n",
    "        \n",
    "        fig, ax1 = plt.subplots(figsize=figsize)\n",
    "        ax2 = ax1.twinx()\n",
    "\n",
    "        [ax1.plot(df_plot.index, df_plot[column], label=column, color=color) for (column, color) in columns_colors_ax1[::-1]]\n",
    "        \n",
    "        columns_label_colors_ax2 = [('Strat_position', 'Strategy position', 'r')]\n",
    "        columns_label_colors_ax2 = [('Long_only', 'Only long position allowed', 'tab:brown'), ('Strat_position', 'Strategy position', 'g')]\n",
    "        df_plot['Long_only'] = df_plot['Long_only'] - 0.03\n",
    "        \n",
    "        [ax2.scatter(df_plot.index, df_plot[column], marker='s', s=1, label=lab, color=color) for (column, lab, color) in columns_label_colors_ax2]            \n",
    "        ax2.set(ylabel='Strategy Position', yticks=np.arange(-1.0,1.01,1))\n",
    "        ax2.set_ylim([-1.1,1.1])\n",
    "        ax2.tick_params(axis='y', direction='out', length=5)\n",
    "        \n",
    "        ax2.grid(False)\n",
    "        \n",
    "        handles, labels = ax2.get_legend_handles_labels()\n",
    "        if legend == True:\n",
    "            ax2.legend(handles[::-1], labels[::-1], loc='upper left', bbox_to_anchor=(0.55, -0.08), borderpad=0.5, markerscale=3) #borderpad=1\n",
    "        \n",
    "    else:\n",
    "        [ax1.plot(df_plot.index, df_plot[column], label=column, color=color) for (column, color) in columns_colors_ax1[::-1]]\n",
    "\n",
    "    from matplotlib import ticker\n",
    "    \n",
    "    # X-AXES\n",
    "    # Write a max of 20 major locators in x axis\n",
    "    n_years = last_day.year - first_day.year\n",
    "    freq = 1 if (n_years <= 20) else 5\n",
    "    years = mdates.YearLocator(freq)       \n",
    "    yearFmt = mdates.DateFormatter('%Y')\n",
    "    # Add the locators to the axis\n",
    "    ax1.xaxis.set_major_locator(years)\n",
    "    ax1.xaxis.set_major_formatter(yearFmt) # Add tick with every freq years\n",
    "    ax1.xaxis.set_minor_locator(mdates.YearLocator(1)) # every year\n",
    "    ax1.tick_params(axis='x', direction='out', which='major', length=4)\n",
    "    ax1.tick_params(axis='x', direction='out', which='minor', length=2)  \n",
    "    \n",
    "    loc = full_df.index.get_loc(first_day)\n",
    "    first_tick = full_df.index.values[loc-1]\n",
    "    loc = full_df.index.get_loc(last_day)\n",
    "    loc = loc if (loc == full_df.index.size - 1) else loc + 1 # Necessary to add one day checking for index size\n",
    "    last_tick = full_df.index.values[loc]\n",
    "    ax1.set_xlim([first_tick, last_tick])\n",
    "    \n",
    "    # Y-AXES\n",
    "    ax1.set(ylabel='Value (USD)', title=title)\n",
    "    ax1.tick_params(axis='y', direction='out', length=4)\n",
    "    #ax1.yaxis.set_minor_locator(ticker.MultipleLocator(250))\n",
    "    #ax1.tick_params(axis='y', direction='out', which='minor', length=2)\n",
    "    \n",
    "    # LEGEND\n",
    "    if legend == True:\n",
    "        # Put a legend below current axis, reversing the printing order and incresing linewidth\n",
    "        handles, labels = ax1.get_legend_handles_labels()\n",
    "        repl = {'Strat_cum_ret':'Strategy', 'Market_cum_ret':'Benchmark', 'Strat_position':'Strategy position'}\n",
    "        repl = {'Strat_cum_ret':'Strategy', 'Market_cum_ret':'Benchmark', 'Long_only':'Only long position allowed', 'Strat_position':'Strategy position'}\n",
    "        labels = [repl.get(n, n) for n in labels]\n",
    "        leg1 = ax1.legend(handles[::-1], labels[::-1], loc='upper right', bbox_to_anchor=(0.45, -0.08), borderpad=0.5)\n",
    "        [legobj.set_linewidth(3) for legobj in leg1.legendHandles]\n",
    "    \n",
    "    if with_signals == True:\n",
    "        buy_signal = df_plot['Strat_position'] > df_plot['Strat_position'].shift()\n",
    "        buy_marker = df_plot['Close']\n",
    "        buy_marker = buy_marker[buy_signal]\n",
    "        buy_dates = df_plot.index[buy_signal]\n",
    "        sell_signal = df_plot['Strat_position'] < df_plot['Strat_position'].shift()\n",
    "        sell_marker = df_plot['Close']\n",
    "        sell_marker = sell_marker[sell_signal]\n",
    "        sell_dates = df_plot.index[sell_signal]\n",
    "        ax1.scatter(buy_dates, buy_marker, marker='^', color='green', label='Buy');\n",
    "        ax1.scatter(sell_dates, sell_marker, marker='>', color='red', label='Exit');\n",
    "\n",
    "    # \n",
    "    ax1.set_zorder(1)\n",
    "    ax1.patch.set_visible(False)\n",
    "    ax2.set_zorder(0)\n",
    "    ax2.patch.set_visible(True)\n",
    "    \n",
    "    #plt.show()"
   ]
  },
  {
   "cell_type": "code",
   "execution_count": 30,
   "metadata": {
    "ExecuteTime": {
     "end_time": "2020-11-10T20:20:19.033415Z",
     "start_time": "2020-11-10T20:20:19.025283Z"
    },
    "code_folding": []
   },
   "outputs": [],
   "source": [
    "def plot_sp500_with_ma_signals(df, fast_ma, slow_ma):\n",
    "    first_day = df.index[0]\n",
    "    last_day = df.index[-1]\n",
    "    \n",
    "    fmt = '%Y-%m-%d' if first_day.year == last_day.year else '%Y'\n",
    "\n",
    "    df['fast_ma'] = full_df['Close'].rolling(window=fast_ma).mean()[first_day:last_day]\n",
    "    df['slow_ma'] = full_df['Close'].rolling(window=slow_ma).mean()[first_day:last_day]\n",
    "    df['diff'] = df['fast_ma'].sub(df['slow_ma'])\n",
    "    df['long_signal'] = (df['diff'] > 0) & (df['diff'].shift(1).fillna(-1) <= 0)\n",
    "    df['exit_signal'] = (df['diff'] <= 0) & (df['diff'].shift(1) > 0)\n",
    "\n",
    "    buy_marker = df['fast_ma'] * df['long_signal'] - (df['fast_ma'].max()*.01)\n",
    "    buy_marker = buy_marker[df['long_signal']]\n",
    "    buy_dates = df.index[df['long_signal']]\n",
    "    exit_marker = df['fast_ma'] * df['exit_signal'] - (df['fast_ma'].max()*.01)\n",
    "    exit_marker = exit_marker[df['exit_signal']]\n",
    "    exit_dates = df.index[df['exit_signal']]\n",
    "\n",
    "    title = \"SP500 with MAs of {}-{} ({} : {})\".format(fast_ma, slow_ma, first_day.strftime(fmt), last_day.strftime(fmt))\n",
    "    \n",
    "    fig = plt.figure()\n",
    "    ax = df[['Close', 'fast_ma', 'slow_ma']].plot(title=title,\n",
    "                                             figsize=(14,6), \n",
    "                                             color=('k', 'r', 'y'))\n",
    "    \n",
    "    ax.scatter(buy_dates, buy_marker, marker='^', color='green', label='Buy');\n",
    "    ax.scatter(exit_dates, exit_marker, marker='>', color='blue', label='Exit');\n",
    "\n",
    "    ax.legend([\"SP500\", 'MA '+ str(fast_ma), 'MA '+ str(slow_ma)]);\n",
    "    ax.tick_params(axis='x', direction='out', length=3, labelrotation=0);\n",
    "    ax.tick_params(axis='y', direction='out', length=3);\n",
    "    plt.xticks(horizontalalignment=\"center\");"
   ]
  },
  {
   "cell_type": "code",
   "execution_count": 31,
   "metadata": {
    "ExecuteTime": {
     "end_time": "2020-11-10T20:20:19.037230Z",
     "start_time": "2020-11-10T20:20:19.035004Z"
    },
    "code_folding": []
   },
   "outputs": [],
   "source": [
    "def show_oos_plot(results_df, legend=False, with_signals=False):\n",
    "#    show_plot(results_df, start=str(results_df.index[0]), end=str(results_df.index[-1]))\n",
    "    show_plot(results_df, legend=legend, with_signals=with_signals)"
   ]
  },
  {
   "cell_type": "code",
   "execution_count": 80,
   "metadata": {
    "ExecuteTime": {
     "end_time": "2020-11-11T21:57:53.322113Z",
     "start_time": "2020-11-11T21:57:53.312587Z"
    },
    "code_folding": []
   },
   "outputs": [],
   "source": [
    "# Plots a heatmap with data from a matrix. \n",
    "def show_heatmap(data, market_ir, plot_title, x_title, x_values, y_title, y_values):\n",
    "    # Flip matrix vertically for better visualization\n",
    "    data = np.flip(data, axis=0)\n",
    "    #data = np.nan_to_num(data, nan=market_ir)\n",
    "    fig, ax = plt.subplots(figsize=(3, 3)) #11,9\n",
    "\n",
    "    rdgn = sns.diverging_palette(h_neg=10, h_pos=130, as_cmap=True, s=80, l=50)\n",
    "#    divnorm = DivergingNorm(vmin=data.min(), vcenter=0, vmax=data.max())\n",
    "#    sns.heatmap(data, cmap=rdgn, norm=divnorm, annot=True, fmt ='.2', \n",
    "    fig = sns.heatmap(data, cmap=rdgn, annot=True, fmt =\".3f\", annot_kws={\"fontsize\":5}, \n",
    "                vmin=-1.0, center=0, vmax=1.0,\n",
    "                linecolor='black', cbar=True, ax=ax,\n",
    "                xticklabels=x_values, yticklabels=np.flip(y_values))\n",
    "    cbar = fig.collections[0].colorbar\n",
    "    cbar.ax.tick_params(labelsize=5);\n",
    "    ax.yaxis.tick_left();\n",
    "    plt.xlabel(x_title, fontsize=6);\n",
    "    plt.ylabel(y_title, fontsize=6);\n",
    "    plt.title(plot_title, fontsize=7);\n",
    "    plt.xticks(fontsize=6, rotation=0);\n",
    "    plt.yticks(fontsize=6, rotation=0);"
   ]
  },
  {
   "cell_type": "code",
   "execution_count": 86,
   "metadata": {
    "ExecuteTime": {
     "end_time": "2020-11-11T22:51:27.317827Z",
     "start_time": "2020-11-11T22:51:27.310445Z"
    },
    "code_folding": []
   },
   "outputs": [],
   "source": [
    "# Plots a heatmap with data from a matrix. \n",
    "def show_both_heatmaps(data_individual, data_robust, market_ir, plot_title, x_title, x_values, y_title, y_values):\n",
    "    # Flip matrix vertically for better visualization\n",
    "    data_individual = np.flip(data_individual, axis=0)\n",
    "    data_robust = np.flip(data_robust, axis=0)\n",
    "\n",
    "    #data = np.nan_to_num(data, nan=market_ir)\n",
    "    fig, ax = plt.subplots(ncols=2, figsize=(10, 4)) #11,9\n",
    "    fig.subplots_adjust(wspace=0.2)\n",
    "    fig.suptitle(\"Information Ratio In Sample (\" + plot_title +\")\", fontsize=9)\n",
    "    ax[0].set_title(\"Individual\", fontsize=7)\n",
    "    ax[1].set_title(\"Robust IR = (Individual + neighbors.mean()) / 2\", fontsize=7)\n",
    "    \n",
    "    \n",
    "    rdgn = sns.diverging_palette(h_neg=10, h_pos=130, as_cmap=True, s=80, l=50)\n",
    "#    divnorm = DivergingNorm(vmin=data.min(), vcenter=0, vmax=data.max())\n",
    "#    sns.heatmap(data, cmap=rdgn, norm=divnorm, annot=True, fmt ='.2', \n",
    "    sns.heatmap(data_individual, cmap=rdgn, annot=True, fmt =\".3f\", annot_kws={\"fontsize\":5}, \n",
    "                vmin=-1.0, center=0, vmax=1.0,\n",
    "                linecolor='black', cbar=False, ax=ax[0],\n",
    "                xticklabels=x_values, yticklabels=np.flip(y_values))\n",
    "    fig.colorbar(ax[0].collections[0], ax=ax[0], location=\"left\", use_gridspec=False, pad=0.2)\n",
    "\n",
    "    sns.heatmap(data_robust, cmap=rdgn, annot=True, fmt =\".3f\", annot_kws={\"fontsize\":5}, \n",
    "                vmin=-1.0, center=0, vmax=1.0,\n",
    "                linecolor='black', cbar=False, ax=ax[1],\n",
    "                xticklabels=x_values, yticklabels=np.flip(y_values))\n",
    "    fig.colorbar(ax[1].collections[0], ax=ax[1], location=\"right\", use_gridspec=False, pad=0.2)\n",
    "    ax[1].yaxis.set_label_position(\"right\")\n",
    "    #ax[1].yaxis.tick_right()\n",
    "    \n",
    "    for a in ax:\n",
    "        a.collections[0].colorbar.ax.tick_params(labelsize=5)\n",
    "        a.set_xlabel(x_title, fontsize=7)\n",
    "        a.set_ylabel(y_title, fontsize=7);\n",
    "        a.tick_params(rotation=0, labelsize=6)"
   ]
  },
  {
   "cell_type": "code",
   "execution_count": 33,
   "metadata": {
    "ExecuteTime": {
     "end_time": "2020-11-10T20:20:19.049203Z",
     "start_time": "2020-11-10T20:20:19.046032Z"
    },
    "code_folding": []
   },
   "outputs": [],
   "source": [
    "def add_data(data, new_data, name):\n",
    "    columns = pd.MultiIndex.from_product([[name], metrics])\n",
    "    new_df = pd.DataFrame(new_data, index=index, columns=columns)\n",
    "    concatenate = pd.concat([data, new_df], axis=1)\n",
    "\n",
    "    return concatenate"
   ]
  },
  {
   "cell_type": "code",
   "execution_count": 34,
   "metadata": {
    "ExecuteTime": {
     "end_time": "2020-11-10T20:20:19.053246Z",
     "start_time": "2020-11-10T20:20:19.050776Z"
    },
    "code_folding": [
     0
    ]
   },
   "outputs": [],
   "source": [
    "def save_report(returns, benchmark=\"SPY\"):\n",
    "#     color = 'k'\n",
    "#     plt.rcParams['text.color'] = color\n",
    "#     plt.rcParams['legend.facecolor'] = 'w'\n",
    "#     plt.rcParams['xtick.color'] = color\n",
    "#     plt.rcParams['ytick.color'] = color\n",
    "#     plt.rcParams['axes.labelcolor'] = color\n",
    "    \n",
    "    qs.reports.html(returns, benchmark)\n",
    "    \n",
    "#     plt.rcParams['text.color'] = 'w'\n",
    "#     plt.rcParams['legend.facecolor'] = '#2f3540'\n",
    "#     plt.rcParams['xtick.color'] = 'w'\n",
    "#     plt.rcParams['ytick.color'] = 'w'\n",
    "#     plt.rcParams['axes.labelcolor'] = 'w'"
   ]
  },
  {
   "cell_type": "markdown",
   "metadata": {},
   "source": [
    "## Performance statistics"
   ]
  },
  {
   "cell_type": "code",
   "execution_count": 24,
   "metadata": {
    "ExecuteTime": {
     "end_time": "2020-11-10T20:20:18.981981Z",
     "start_time": "2020-11-10T20:20:18.974724Z"
    },
    "code_folding": []
   },
   "outputs": [],
   "source": [
    "def print_backtest_stats_ma(df, fast_ma, slow_ma, ret_strat=np.nan, ir_strat=np.nan, market_ir=np.nan): # Change params fast_ma & slow_ma for long_only\n",
    "    first_day = df.index[0]\n",
    "    last_day = df.index[-1]\n",
    "    loc = full_df.index.get_loc(df.index[0])\n",
    "    ini_money_market = full_df.iloc[loc - 1]['Close']\n",
    "    \n",
    "    ret_market = (df.loc[last_day, 'Close'] / ini_money_market) * 100\n",
    "    \n",
    "    print(\"Period: {:%Y-%m-%d} to {:%Y-%m-%d}\".format(df.index[0], df.index[-1]))\n",
    "    print(\"\\tOverall return of SP500: {:.2f} %. IR of SP500: {:.2f}\".format(ret_market, market_ir))\n",
    "    if (fast_ma >= slow_ma):\n",
    "        print(\"\\tOverall return of long only: {:.2f} %. IR strategy: {:.2f}. \".format(ret_market, market_ir))\n",
    "    else:\n",
    "        print(\"\\tOverall return of {}-{} MA crossover: {:.2f} %. IR strategy: {:.2f}\".format(fast_ma, slow_ma, ret_strat, ir_strat))\n",
    "\n",
    "    return"
   ]
  },
  {
   "cell_type": "code",
   "execution_count": 25,
   "metadata": {
    "ExecuteTime": {
     "end_time": "2020-11-10T20:20:18.986891Z",
     "start_time": "2020-11-10T20:20:18.984099Z"
    },
    "code_folding": [
     0
    ]
   },
   "outputs": [],
   "source": [
    "def calculate_annualized_return_compounded(log_ret):\n",
    "    arc = 252 * np.mean(log_ret)\n",
    "    \n",
    "    return np.round(arc*100, 2)"
   ]
  },
  {
   "cell_type": "code",
   "execution_count": 26,
   "metadata": {
    "ExecuteTime": {
     "end_time": "2020-11-10T20:20:18.991661Z",
     "start_time": "2020-11-10T20:20:18.988573Z"
    },
    "code_folding": []
   },
   "outputs": [],
   "source": [
    "def calculate_information_ratio(cummulative_ret, ini_equity=ini_equity_default):\n",
    "    #print(\"Performance statistics using np.log(Close/Close[-1]): -> PERFECT\")\n",
    "    log_ret = np.log(cummulative_ret / cummulative_ret.shift(1, fill_value=ini_equity))\n",
    "    \n",
    "    arc = calculate_annualized_return_compounded(log_ret)\n",
    "    asd = calculate_annualized_st_dev(log_ret)\n",
    "    if asd == 0:\n",
    "        return 0\n",
    "    \n",
    "    ir = arc/asd\n",
    "    \n",
    "    return np.round(ir, 3)"
   ]
  },
  {
   "cell_type": "code",
   "execution_count": 27,
   "metadata": {
    "ExecuteTime": {
     "end_time": "2020-11-10T20:20:18.996339Z",
     "start_time": "2020-11-10T20:20:18.993738Z"
    },
    "code_folding": [
     0
    ]
   },
   "outputs": [],
   "source": [
    "def calculate_annualized_st_dev(log_ret):\n",
    "    asd = np.sqrt(252) * log_ret.std()\n",
    "    \n",
    "    return np.round(asd*100, 2)"
   ]
  },
  {
   "cell_type": "code",
   "execution_count": 76,
   "metadata": {
    "ExecuteTime": {
     "end_time": "2020-11-11T18:07:33.117797Z",
     "start_time": "2020-11-11T18:07:33.109775Z"
    },
    "code_folding": [
     0
    ]
   },
   "outputs": [],
   "source": [
    "def calculate_performance_metrics(df, ini_equity=ini_equity_default):\n",
    "    row_name = ['MA_Crossover']\n",
    "    metrics = ['ARC', 'IR', 'aSD', 'MD', 'AMD', 'MLD', 'All Risk', 'ARCMD', 'ARCAMD']\n",
    "\n",
    "    # Strategy\n",
    "    log_ret = np.log(df['Strat_cum_ret'] / df['Strat_cum_ret'].shift(1, fill_value=ini_equity))\n",
    "\n",
    "    AbsRet = (df['Strat_cum_ret'][-1]/ini_equity - 1) * 100\n",
    "    ARC = calculate_annualized_return_compounded(log_ret)\n",
    "    IR = calculate_information_ratio(df['Strat_cum_ret'], ini_equity=ini_equity)\n",
    "    aSD = calculate_annualized_st_dev(log_ret)\n",
    "    MD = abs(qs.stats.max_drawdown(df['Strat_cum_ret']))*100\n",
    "    AMD = abs(df['Strat_cum_ret'].groupby(by=df.index.year).apply(qs.stats.max_drawdown).mean()*100)\n",
    "    MLD = qs.stats.drawdown_details(qs.stats.to_drawdown_series(df['Strat_cum_ret']))['days'].max()/365.25\n",
    "    all_risk = aSD*MD*AMD*MLD / 10000\n",
    "    ARCMD = ARC/MD\n",
    "    ARCAMD = ARC/AMD\n",
    "\n",
    "    data = [[ARC, IR, aSD, MD, AMD, MLD, all_risk, ARCMD, ARCAMD]]\n",
    "    row = pd.DataFrame(data=data, index=row_name, columns=metrics)\n",
    "\n",
    "    performance_metrics = pd.DataFrame(row).round(3) \n",
    "    \n",
    "    # Buy & Hold\n",
    "    buy_and_hold = calculate_performance_metrics_buy_and_hold(df, ini_equity=ini_equity)\n",
    "        \n",
    "    performance_metrics = pd.concat([performance_metrics, buy_and_hold], axis='index')\n",
    "    \n",
    "    return performance_metrics"
   ]
  },
  {
   "cell_type": "code",
   "execution_count": 77,
   "metadata": {
    "ExecuteTime": {
     "end_time": "2020-11-11T18:07:35.342866Z",
     "start_time": "2020-11-11T18:07:35.331385Z"
    },
    "code_folding": [
     0
    ]
   },
   "outputs": [],
   "source": [
    "def calculate_performance_metrics_buy_and_hold(df, ini_equity=ini_equity_default):\n",
    "    row_name = ['Buy&Hold']\n",
    "    metrics = ['ARC', 'IR', 'aSD', 'MD', 'AMD', 'MLD', 'All Risk', 'ARCMD', 'ARCAMD']\n",
    "\n",
    "    log_ret = np.log(df['Market_cum_ret'] / df['Market_cum_ret'].shift(1, fill_value=ini_equity))\n",
    "\n",
    "    AbsRet = (df['Market_cum_ret'][-1]/ini_equity - 1) * 100\n",
    "    ARC = calculate_annualized_return_compounded(log_ret)\n",
    "    IR = calculate_information_ratio(df['Market_cum_ret'], ini_equity=ini_equity)\n",
    "    aSD = calculate_annualized_st_dev(log_ret)\n",
    "    MD = abs(qs.stats.max_drawdown(df['Market_cum_ret']))*100\n",
    "    AMD = abs(df['Market_cum_ret'].groupby(by=df.index.year).apply(qs.stats.max_drawdown).mean()*100)\n",
    "    MLD = qs.stats.drawdown_details(qs.stats.to_drawdown_series(df['Market_cum_ret']))['days'].max()/365.25\n",
    "    all_risk = aSD*MD*AMD*MLD / 10000\n",
    "    ARCMD = ARC/MD\n",
    "    ARCAMD = ARC/AMD\n",
    "\n",
    "    data = [[ARC, IR, aSD, MD, AMD, MLD, all_risk, ARCMD, ARCAMD]]\n",
    "    row = pd.DataFrame(data=data, index=row_name, columns=metrics)\n",
    "\n",
    "    performance_metrics = pd.DataFrame(row).round(3) \n",
    "        \n",
    "    return performance_metrics"
   ]
  },
  {
   "cell_type": "code",
   "execution_count": null,
   "metadata": {},
   "outputs": [],
   "source": []
  }
 ],
 "metadata": {
  "kernelspec": {
   "display_name": "py37",
   "language": "python",
   "name": "py37"
  },
  "language_info": {
   "codemirror_mode": {
    "name": "ipython",
    "version": 3
   },
   "file_extension": ".py",
   "mimetype": "text/x-python",
   "name": "python",
   "nbconvert_exporter": "python",
   "pygments_lexer": "ipython3",
   "version": "3.7.9"
  },
  "toc": {
   "base_numbering": 1,
   "nav_menu": {},
   "number_sections": true,
   "sideBar": true,
   "skip_h1_title": false,
   "title_cell": "Table of Contents",
   "title_sidebar": "Contents",
   "toc_cell": false,
   "toc_position": {
    "height": "calc(100% - 180px)",
    "left": "10px",
    "top": "150px",
    "width": "320px"
   },
   "toc_section_display": true,
   "toc_window_display": false
  },
  "varInspector": {
   "cols": {
    "lenName": "8",
    "lenType": 16,
    "lenVar": 40
   },
   "kernels_config": {
    "python": {
     "delete_cmd_postfix": "",
     "delete_cmd_prefix": "del ",
     "library": "var_list.py",
     "varRefreshCmd": "print(var_dic_list())"
    },
    "r": {
     "delete_cmd_postfix": ") ",
     "delete_cmd_prefix": "rm(",
     "library": "var_list.r",
     "varRefreshCmd": "cat(var_dic_list()) "
    }
   },
   "types_to_exclude": [
    "module",
    "function",
    "builtin_function_or_method",
    "instance",
    "_Feature"
   ],
   "window_display": false
  }
 },
 "nbformat": 4,
 "nbformat_minor": 4
}
