{
 "cells": [
  {
   "cell_type": "markdown",
   "metadata": {},
   "source": [
    "## Imports"
   ]
  },
  {
   "cell_type": "code",
   "execution_count": 1,
   "metadata": {
    "ExecuteTime": {
     "end_time": "2021-01-04T22:03:45.636963Z",
     "start_time": "2021-01-04T22:03:44.688421Z"
    }
   },
   "outputs": [],
   "source": [
    "%run Plots.ipynb\n",
    "%run Metrics.ipynb"
   ]
  },
  {
   "cell_type": "code",
   "execution_count": 2,
   "metadata": {
    "ExecuteTime": {
     "end_time": "2021-01-04T22:03:45.646913Z",
     "start_time": "2021-01-04T22:03:45.640755Z"
    }
   },
   "outputs": [
    {
     "data": {
      "text/html": [
       "<style>.output_png img {display: block;margin-left: auto;margin-right: auto;text-align: center;vertical-align: middle;} </style>"
      ],
      "text/plain": [
       "<IPython.core.display.HTML object>"
      ]
     },
     "execution_count": 2,
     "metadata": {},
     "output_type": "execute_result"
    }
   ],
   "source": [
    "#Delete me\n",
    "# Settings for notebook visualization\n",
    "from IPython.core.interactiveshell import InteractiveShell\n",
    "InteractiveShell.ast_node_interactivity = 'all'\n",
    "%matplotlib inline\n",
    "from IPython.core.display import HTML\n",
    "HTML(\"\"\"<style>.output_png img {display: block;margin-left: auto;margin-right: auto;text-align: center;vertical-align: middle;} </style>\"\"\")"
   ]
  },
  {
   "cell_type": "code",
   "execution_count": 3,
   "metadata": {
    "ExecuteTime": {
     "end_time": "2021-01-04T22:03:45.672213Z",
     "start_time": "2021-01-04T22:03:45.651829Z"
    },
    "code_folding": []
   },
   "outputs": [
    {
     "data": {
      "text/html": [
       "<style>.output_png img {display: block;margin-left: auto;margin-right: auto;} </style>"
      ],
      "text/plain": [
       "<IPython.core.display.HTML object>"
      ]
     },
     "execution_count": 3,
     "metadata": {},
     "output_type": "execute_result"
    }
   ],
   "source": [
    "# Necessary imports\n",
    "import yfinance as yf\n",
    "import numpy as np\n",
    "import pandas as pd\n",
    "import quantstats as qs\n",
    "import statistics as st\n",
    "import os\n",
    "from datetime import datetime, timedelta\n",
    "from scipy.signal import convolve2d\n",
    "from IPython.core.display import HTML\n",
    "from collections import Counter, namedtuple\n",
    "HTML(\"\"\"<style>.output_png img {display: block;margin-left: auto;margin-right: auto;} </style>\"\"\")"
   ]
  },
  {
   "cell_type": "code",
   "execution_count": 4,
   "metadata": {
    "ExecuteTime": {
     "end_time": "2021-01-04T22:03:45.679172Z",
     "start_time": "2021-01-04T22:03:45.673730Z"
    },
    "code_folding": []
   },
   "outputs": [],
   "source": [
    "# Other settings\n",
    "qs.extend_pandas()\n",
    "np.set_printoptions(edgeitems=40, linewidth=1000)\n",
    "pd.set_option(\"display.precision\", 6)\n",
    "pd.set_option('display.max_columns', 500)\n",
    "pd.set_option('display.width', 1000)\n",
    "\n",
    "# Other settings\n",
    "\n",
    "# Settings for plot visualization\n",
    "plt.style.use('seaborn-darkgrid')\n",
    "\n",
    "#plt.rcParams.keys()\n",
    "plt.rcParams['figure.dpi'] = 200\n",
    "plt.rcParams[\"figure.figsize\"] = (12,3.5) #(12,5)\n",
    "plt.rcParams['axes.grid'] = True\n",
    "plt.rcParams['grid.linewidth'] = 0.4\n",
    "#plt.rcParams['xtick.label.allignment'] = 'center'\n",
    "\n",
    "plt.rcParams['xtick.bottom'] = plt.rcParams['ytick.labelright'] = True\n",
    "plt.rcParams['ytick.left'] = plt.rcParams['ytick.right'] = True\n",
    "\n",
    "plt.rcParams['lines.linewidth'] = 1.2\n",
    "#plt.rcParams['lines.markersize'] = 0.5\n",
    "plt.rcParams['patch.edgecolor'] = 'k' # Legend border \n",
    "plt.rcParams['legend.facecolor'] = 'w'\n",
    "plt.rcParams[\"legend.frameon\"] = True\n",
    "\n",
    "np.set_printoptions(edgeitems=40, linewidth=1000)\n",
    "\n",
    "pd.set_option(\"display.precision\", 6)\n",
    "pd.set_option('display.max_columns', 500)\n",
    "pd.set_option('display.width', 1000)\n",
    "\n",
    "#print(\"Notebook parameters set correctly\")"
   ]
  },
  {
   "cell_type": "code",
   "execution_count": 5,
   "metadata": {
    "ExecuteTime": {
     "end_time": "2021-01-04T22:03:45.683501Z",
     "start_time": "2021-01-04T22:03:45.681113Z"
    }
   },
   "outputs": [],
   "source": [
    "os.chdir(\"/Users/Sergio/Documents/Master_QF/Thesis/Code/Algorithmic Strategies/\")"
   ]
  },
  {
   "cell_type": "markdown",
   "metadata": {},
   "source": [
    "## Data"
   ]
  },
  {
   "cell_type": "code",
   "execution_count": 6,
   "metadata": {
    "ExecuteTime": {
     "end_time": "2021-01-04T22:03:45.687238Z",
     "start_time": "2021-01-04T22:03:45.685088Z"
    }
   },
   "outputs": [],
   "source": [
    "ini_equity_default = 100\n",
    "commision_default = 0.000111538462 # 2/130000 + 12.5/130000\n",
    "#commision_default = 0.0005 # Slightly Bbgger commision, for better visualization\n",
    "# 0.01 = 1% of the cummulative return (equity)"
   ]
  },
  {
   "cell_type": "code",
   "execution_count": 7,
   "metadata": {
    "ExecuteTime": {
     "end_time": "2021-01-04T22:03:45.692818Z",
     "start_time": "2021-01-04T22:03:45.690837Z"
    }
   },
   "outputs": [],
   "source": [
    "# https://finance.yahoo.com/quote/%5EIRX?p=^IRX&.tsrc=fin-srch\n",
    "# 13-week treasury bills\n",
    "# All treasury bills from yahoo: https://finance.yahoo.com/bonds?.tsrc=fin-srch\n",
    "# rf_13w = yf.download(\"^IRX\", auto_adjust=True, start=\"1928-01-01\") # This one starts in 1960\n",
    "# rf_10y = yf.download(\"^TNX\", auto_adjust=True, start=\"1928-01-01\") # This one starts in 1962\n",
    "# rf = pd.concat([rf_13w['Close'], rf_10y['Close']], axis=1)\n",
    "# rf.columns = ['13W', '10Y']\n",
    "# rf.head()\n",
    "# rf.plot()"
   ]
  },
  {
   "cell_type": "code",
   "execution_count": 8,
   "metadata": {
    "ExecuteTime": {
     "end_time": "2021-01-04T22:03:45.700540Z",
     "start_time": "2021-01-04T22:03:45.697479Z"
    },
    "code_folding": []
   },
   "outputs": [],
   "source": [
    "# Load DF with SP500 data\n",
    "def get_sp500_data(start_date=\"1928-01-01\", from_local_file=True, save_to_file=False):\n",
    "    if from_local_file == True:\n",
    "        data = pd.read_pickle('data/SP500_hist_data.pkl')\n",
    "    else:\n",
    "        # Download data from yfinance\n",
    "        data = yf.download(\"^GSPC\", auto_adjust=True, start=start_date)\n",
    "        if save_to_file == True:\n",
    "            data.to_pickle(\"data/SP500_hist_data.pkl\")\n",
    "    return data"
   ]
  },
  {
   "cell_type": "code",
   "execution_count": 9,
   "metadata": {
    "ExecuteTime": {
     "end_time": "2021-01-04T22:03:45.718306Z",
     "start_time": "2021-01-04T22:03:45.702142Z"
    }
   },
   "outputs": [],
   "source": [
    "full_df = get_sp500_data()\n",
    "full_df['Market_daily_ret'] = full_df['Close'].pct_change().fillna((full_df['Close']-full_df['Open'])/full_df['Open'])\n",
    "full_df = full_df[['Close', 'Open', 'Market_daily_ret']]"
   ]
  },
  {
   "cell_type": "markdown",
   "metadata": {},
   "source": [
    "## Strategy functions"
   ]
  },
  {
   "cell_type": "markdown",
   "metadata": {
    "heading_collapsed": true
   },
   "source": [
    "### Buy and Hold"
   ]
  },
  {
   "cell_type": "code",
   "execution_count": 10,
   "metadata": {
    "ExecuteTime": {
     "end_time": "2021-01-04T22:03:45.722866Z",
     "start_time": "2021-01-04T22:03:45.720145Z"
    },
    "code_folding": [],
    "hidden": true
   },
   "outputs": [],
   "source": [
    "# Define if the strategy position (1=fast_ma higher than slow_ma, -1=short)\n",
    "def buy_and_hold(df):\n",
    "    position = pd.Series(1.0, index=df.index, dtype='float64')\n",
    "    long_only = pd.Series(1.0, index=df.index, dtype='float64')\n",
    "    \n",
    "    return position, long_only"
   ]
  },
  {
   "cell_type": "markdown",
   "metadata": {},
   "source": [
    "### Moving-Average Crossover"
   ]
  },
  {
   "cell_type": "code",
   "execution_count": 11,
   "metadata": {
    "ExecuteTime": {
     "end_time": "2021-01-04T22:03:45.729155Z",
     "start_time": "2021-01-04T22:03:45.724540Z"
    },
    "code_folding": [
     1
    ]
   },
   "outputs": [],
   "source": [
    "# Define if the strategy position (1=long, 0=neutral, -1=short)\n",
    "def ma_crossover(df, fast_ma, slow_ma):\n",
    "#     if (fast_ma == 0) & (slow_ma == 0): # Not valid parameters. buy_and_hold\n",
    "#         return buy_and_hold(df)\n",
    "    \n",
    "    if (fast_ma >= slow_ma): # Important for WF\n",
    "        return buy_and_hold(df)\n",
    "    \n",
    "    else:\n",
    "        ############ start logic of the strategy ############\n",
    "        # position refers to the position at the begining of each day. So we only use prices until previous day\n",
    "        df['fast_ma'] = full_df['Close'].shift().rolling(window=fast_ma).mean()\n",
    "        df['slow_ma'] = full_df['Close'].shift().rolling(window=slow_ma).mean()\n",
    "        df['fast-slow'] = df['fast_ma'].sub(df['slow_ma'])\n",
    "\n",
    "        conditions = [df['fast-slow'] > 0, df['fast-slow'] < 0, df['fast-slow'] == 0]\n",
    "        signals = [1.0, 0.0, 1.0]\n",
    "        \n",
    "        position = pd.Series(np.select(conditions, signals), index=df.index, dtype='float64')\n",
    "        \n",
    "        ############ end logic of the strategy ############\n",
    "\n",
    "    long_only = pd.Series(0.0, index=df.index, dtype='float64')\n",
    "    \n",
    "    return position, long_only"
   ]
  },
  {
   "cell_type": "code",
   "execution_count": 12,
   "metadata": {
    "ExecuteTime": {
     "end_time": "2021-01-04T22:03:45.736987Z",
     "start_time": "2021-01-04T22:03:45.730492Z"
    }
   },
   "outputs": [
    {
     "data": {
      "text/plain": [
       "'\\nRuns a backtest with all possible combinations and returns 2 matrices, one with pnl results, and one with SR\\nIn MA crossover strategy, param_1 refers to fast_ma. param_2 refers to slow_ma\\n\\n'"
      ]
     },
     "execution_count": 12,
     "metadata": {},
     "output_type": "execute_result"
    }
   ],
   "source": [
    "\"\"\"\n",
    "Runs a backtest with all possible combinations and returns 2 matrices, one with pnl results, and one with SR\n",
    "In MA crossover strategy, param_1 refers to fast_ma. param_2 refers to slow_ma\n",
    "\n",
    "\"\"\"\n",
    "def run_all_combinations_ma_crossover(df, param_1_list, param_2_list, last_position):\n",
    "    strats_pnl_matrix = np.zeros((len(param_1_list),len(param_2_list)))\n",
    "    strats_ir_matrix = np.zeros((len(param_1_list),len(param_2_list)))\n",
    "\n",
    "    #buy and hold\n",
    "    strategy = buy_and_hold(df)\n",
    "    _, _, _, _, market_pnl, market_ir = backtest_strat(df, strategy, previous_position=last_position)\n",
    "    \n",
    "    for i, param_1 in enumerate(param_1_list): #fast_ma\n",
    "        for j, param_2 in enumerate(param_2_list): #slow_ma\n",
    "            if param_1 < param_2: # Constraint of ma_crossover\n",
    "                strategy = ma_crossover(df, param_1, param_2)\n",
    "                _, _, strat_pnl, strat_ir, _, _ = backtest_strat(df, strategy, previous_position=last_position)\n",
    "                strats_pnl_matrix[i,j] = strat_pnl\n",
    "                strats_ir_matrix[i,j] = strat_ir\n",
    "\n",
    "    return strats_pnl_matrix, strats_ir_matrix, market_pnl, market_ir"
   ]
  },
  {
   "cell_type": "code",
   "execution_count": 13,
   "metadata": {
    "ExecuteTime": {
     "end_time": "2021-01-04T22:03:45.744726Z",
     "start_time": "2021-01-04T22:03:45.738738Z"
    },
    "code_folding": [
     3
    ]
   },
   "outputs": [
    {
     "data": {
      "text/plain": [
       "'\\nChecks how many neighbors has each element of a matrix.\\n'"
      ]
     },
     "execution_count": 13,
     "metadata": {},
     "output_type": "execute_result"
    }
   ],
   "source": [
    "\"\"\"\n",
    "Checks how many neighbors has each element of a matrix.\n",
    "\"\"\"\n",
    "def get_num_neighbors_ma_crossover(param_1_list, param_2_list):\n",
    "    n_rows = len(param_1_list)\n",
    "    n_cols = len(param_1_list)\n",
    "    \n",
    "    n_neighbors = np.full((n_rows, n_cols), 8.0) # Default number of neighbors of each cell\n",
    "    n_neighbors[[0,n_cols-1], :] = n_neighbors[:, [0,n_cols-1]] = 5 # Edges\n",
    "    n_neighbors[[0,n_cols-1], [0,n_cols-1]] = n_neighbors[[n_rows-1,0], [0,n_cols-1]] = 3 # Corners\n",
    "\n",
    "    for i in range(n_rows):\n",
    "        for j in range(n_cols):\n",
    "            if param_1_list[i] >= param_2_list[j]:\n",
    "                n_neighbors[i,j] = np.nan\n",
    "        \n",
    "    num_notnan_neighbors = n_neighbors - _check_nan_around_matrix(n_neighbors)\n",
    "    \n",
    "    return num_notnan_neighbors"
   ]
  },
  {
   "cell_type": "markdown",
   "metadata": {},
   "source": [
    "### Sell in may and go away"
   ]
  },
  {
   "cell_type": "code",
   "execution_count": 5,
   "metadata": {
    "ExecuteTime": {
     "end_time": "2021-01-07T22:05:16.804943Z",
     "start_time": "2021-01-07T22:05:16.799472Z"
    },
    "code_folding": [
     0
    ]
   },
   "outputs": [],
   "source": [
    "def sell_in_may_and_go_away(df, sell_month, sell_duration):\n",
    "    if (sell_month == 0) | (sell_month > 12) | (sell_duration == 0) | (sell_duration > 12) : # Buy and hold \n",
    "#        print(\"buy_hold\")\n",
    "        return buy_and_hold(df)\n",
    "    \n",
    "    elif (sell_duration == 12):\n",
    "        position = pd.Series(0.0, index=df.index, dtype='float64')\n",
    "    else:\n",
    "        ############ start logic of the strategy ############\n",
    "        df['month'] = df.index.month\n",
    "        \n",
    "        buy_month = ((sell_month + sell_duration - 1) % 12) + 1 # -1 and +1 because we want to omit number 0\n",
    "        #print(f'sell month: {sell_month}\\nsell duration: {sell_duration}\\n\\tbuy month:{buy_month}')\n",
    "        \n",
    "        conditions = [(sell_month < buy_month) & df['month'].between(sell_month, buy_month-1), #between() is inclusive -> -1\n",
    "                      (buy_month < sell_month) & ~df['month'].between(buy_month, sell_month-1), #between() is inclusive -> -1\n",
    "        ]\n",
    "        signals = [0.0, 0.0]\n",
    "        position = pd.Series(np.select(conditions, signals, default=1.0), index=df.index, dtype='float64')\n",
    "        \n",
    "        ############ end logic of the strategy ############\n",
    "    \n",
    "    long_only = pd.Series(0.0, index=df.index, dtype='float64')\n",
    "    \n",
    "    return position, long_only"
   ]
  },
  {
   "cell_type": "code",
   "execution_count": 15,
   "metadata": {
    "ExecuteTime": {
     "end_time": "2021-01-04T22:03:45.763605Z",
     "start_time": "2021-01-04T22:03:45.755907Z"
    },
    "code_folding": [
     5
    ]
   },
   "outputs": [
    {
     "data": {
      "text/plain": [
       "'\\nRuns a backtest with all possible combinations and returns 2 matrices, one with pnl results, and one with SR\\nIn sell_in_may_and_go_away strategy, param_1 refers to sell_month. param_2 refers to buy_month\\n\\n'"
      ]
     },
     "execution_count": 15,
     "metadata": {},
     "output_type": "execute_result"
    }
   ],
   "source": [
    "\"\"\"\n",
    "Runs a backtest with all possible combinations and returns 2 matrices, one with pnl results, and one with SR\n",
    "In sell_in_may_and_go_away strategy, param_1 refers to sell_month. param_2 refers to buy_month\n",
    "\n",
    "\"\"\"\n",
    "def run_all_combinations_sell_in_may(df, param_1_list, param_2_list, last_position):\n",
    "    strats_pnl_matrix = np.zeros((len(param_1_list),len(param_2_list)))\n",
    "    strats_ir_matrix = np.zeros((len(param_1_list),len(param_2_list)))\n",
    "\n",
    "    #buy and hold\n",
    "    strategy = buy_and_hold(df)\n",
    "    _, _, _, _, market_pnl, market_ir = backtest_strat(df, strategy, previous_position=last_position)\n",
    "    \n",
    "    for i, param_1 in enumerate(param_1_list): #sell_month\n",
    "        if 0 < param_1 <= 12: # Constraint of #sell_month\n",
    "            for j, param_2 in enumerate(param_2_list): #sell_duration\n",
    "                if (0 <= param_2 <= 12): # Constraint of sell_in_may_and_go_away\n",
    "                    strategy = sell_in_may_and_go_away(df, param_1, param_2)\n",
    "                    _, _, strat_pnl, strat_ir, _, _ = backtest_strat(df, strategy, previous_position=last_position)\n",
    "                    strats_pnl_matrix[i,j] = strat_pnl\n",
    "                    strats_ir_matrix[i,j] = strat_ir\n",
    "\n",
    "    return strats_pnl_matrix, strats_ir_matrix, market_pnl, market_ir"
   ]
  },
  {
   "cell_type": "code",
   "execution_count": 30,
   "metadata": {
    "ExecuteTime": {
     "end_time": "2021-01-04T22:09:02.238819Z",
     "start_time": "2021-01-04T22:09:02.229437Z"
    },
    "code_folding": [
     3
    ]
   },
   "outputs": [
    {
     "data": {
      "text/plain": [
       "'\\nChecks how many neighbors has each element of a matrix.\\n'"
      ]
     },
     "execution_count": 30,
     "metadata": {},
     "output_type": "execute_result"
    }
   ],
   "source": [
    "\"\"\"\n",
    "Checks how many neighbors has each element of a matrix.\n",
    "\"\"\"\n",
    "def get_num_neighbors_sell_in_may_and_go_away(sell_month_list, sell_duration_list):\n",
    "    n_rows = len(sell_month_list)\n",
    "    n_cols = len(sell_month_list) # Done intentionally. Matrix has to be squared\n",
    "    \n",
    "    n_neighbors = np.full((n_rows, n_cols), 8.0) # Default number of neighbors of each cell\n",
    "    n_neighbors[[0,n_cols-1], :] = n_neighbors[:, [0,n_cols-1]] = 5 # Edges\n",
    "    n_neighbors[[0,n_cols-1], [0,n_cols-1]] = n_neighbors[[n_rows-1,0], [0,n_cols-1]] = 3 # Corners\n",
    "\n",
    "    for i in range(n_rows):\n",
    "        for j in range(n_cols):\n",
    "            if (sell_month_list[i] < 0) | (sell_month_list[i] > 12) | (sell_duration_list[j] > 12):\n",
    "                n_neighbors[i,j] = np.nan\n",
    "        \n",
    "    num_notnan_neighbors = n_neighbors - _check_nan_around_matrix(n_neighbors)\n",
    "    \n",
    "    return num_notnan_neighbors"
   ]
  },
  {
   "cell_type": "markdown",
   "metadata": {
    "heading_collapsed": true
   },
   "source": [
    "## Backtest functions"
   ]
  },
  {
   "cell_type": "code",
   "execution_count": 17,
   "metadata": {
    "ExecuteTime": {
     "end_time": "2021-01-04T22:03:45.778033Z",
     "start_time": "2021-01-04T22:03:45.774120Z"
    },
    "code_folding": [],
    "hidden": true
   },
   "outputs": [],
   "source": [
    "def backtest_print_plot(df, strategy, strat_name=\"ma_crossover\", strat_params=(0,0), previous_position=0, ini_equity=ini_equity_default, commision=commision_default, figsize=(12,3.5), with_legend=False, plot=True): #(12,5)    \n",
    "    df, _, strat_pnl, strat_ir, market_pnl, market_ir = backtest_strat(df, strategy, previous_position=previous_position, \n",
    "                                                                       ini_equity=ini_equity, commision=commision)\n",
    "    print_backtest_stats(df, strat_pnl, strat_ir, market_pnl, market_ir, strat_name=strat_name, strat_params=strat_params) \n",
    "    if plot == True:\n",
    "        show_plot(df, figsize=figsize, with_legend=with_legend)\n",
    "    \n",
    "    return df"
   ]
  },
  {
   "cell_type": "code",
   "execution_count": 18,
   "metadata": {
    "ExecuteTime": {
     "end_time": "2021-01-04T22:03:45.786574Z",
     "start_time": "2021-01-04T22:03:45.779763Z"
    },
    "code_folding": [],
    "hidden": true
   },
   "outputs": [
    {
     "data": {
      "text/plain": [
       "\"\\nbacktest_strat does the backtest of an strategy. It adds the following columns to the received dataframe: \\n    'Strat_daily_ret', 'Market_cum_ret', 'Strat_position', 'Long_Only', 'Costs'\\nEx: \\nret, last_position, strat_pnl, strat_ir = backtest_strat(df, lambda: ma_crossover(df, 75, 200))\\n\""
      ]
     },
     "execution_count": 18,
     "metadata": {},
     "output_type": "execute_result"
    }
   ],
   "source": [
    "\"\"\"\n",
    "backtest_strat does the backtest of an strategy. It adds the following columns to the received dataframe: \n",
    "    'Strat_daily_ret', 'Market_cum_ret', 'Strat_position', 'Long_Only', 'Costs'\n",
    "Ex: \n",
    "ret, last_position, strat_pnl, strat_ir = backtest_strat(df, lambda: ma_crossover(df, 75, 200))\n",
    "\"\"\"\n",
    "def backtest_strat(df, strategy, ini_equity=ini_equity_default, previous_position=0, commision=commision_default):    \n",
    "#    first_position, df['Strat_position'], df['Long_only'] = get_strategy_position(df.copy(), strategy)\n",
    "    df['Strat_position'], df['Long_only']  = strategy\n",
    "    \n",
    "    df = _get_returns_from_strat_position(df, ini_equity=ini_equity, previous_position=previous_position, commision=commision)\n",
    "    \n",
    "    # Useful for WF\n",
    "    last_position = df.loc[df.index[-1], 'Strat_position']\n",
    "    \n",
    "    # Useful for printing and selecting best combination of parameters\n",
    "    strat_pnl = ((df.loc[df.index[-1], 'Strat_cum_ret'] / ini_equity) - 1) * 100\n",
    "    strat_ir = calculate_information_ratio(df['Strat_daily_ret'])\n",
    "\n",
    "    market_pnl = ((df.loc[df.index[-1], 'Market_cum_ret'] / ini_equity) - 1) * 100\n",
    "    market_ir = calculate_information_ratio(df['Market_daily_ret'])\n",
    "    \n",
    "    return df, last_position, strat_pnl, strat_ir, market_pnl, market_ir"
   ]
  },
  {
   "cell_type": "code",
   "execution_count": 19,
   "metadata": {
    "ExecuteTime": {
     "end_time": "2021-01-04T22:03:45.791821Z",
     "start_time": "2021-01-04T22:03:45.788555Z"
    },
    "code_folding": [
     0
    ],
    "hidden": true
   },
   "outputs": [],
   "source": [
    "def _get_cum_ret_from_daily_pct_ret(daily_returns, costs=commision_default, ini_equity=ini_equity_default):    \n",
    "    if (isinstance(costs, pd.Series) == False):\n",
    "        costs = pd.Series(costs, index=daily_returns.index)\n",
    "    \n",
    "    # Calculate cummulative returns as: cum_returns = ini_equity * CUMPROD ((1+daily_ret) * (1-costs))\n",
    "    cum_returns = daily_returns.add(1).mul(1-costs).cumprod().mul(ini_equity)\n",
    "    \n",
    "    return cum_returns"
   ]
  },
  {
   "cell_type": "code",
   "execution_count": 20,
   "metadata": {
    "ExecuteTime": {
     "end_time": "2021-01-04T22:03:45.802416Z",
     "start_time": "2021-01-04T22:03:45.793703Z"
    },
    "code_folding": [],
    "hidden": true
   },
   "outputs": [
    {
     "data": {
      "text/plain": [
       "\"\\nGiven 'Market_daily_ret' and 'Strat_position', adds to df: 'Strat_daily_ret', 'Market_cum_ret', 'Strat_cum_ret', 'Costs'\\nFormula:\\n   - Strat_cum_ret = [(1+Market_daily_ret*Strat_position) * (1-commission_paid_pct)].cumprod() * ini_equity\\n\""
      ]
     },
     "execution_count": 20,
     "metadata": {},
     "output_type": "execute_result"
    }
   ],
   "source": [
    "\"\"\"\n",
    "Given 'Market_daily_ret' and 'Strat_position', adds to df: 'Strat_daily_ret', 'Market_cum_ret', 'Strat_cum_ret', 'Costs'\n",
    "Formula:\n",
    "   - Strat_cum_ret = [(1+Market_daily_ret*Strat_position) * (1-commission_paid_pct)].cumprod() * ini_equity\n",
    "\"\"\"\n",
    "def _get_returns_from_strat_position(df, ini_equity=ini_equity_default, previous_position=0, commision=commision_default):\n",
    "    # Previous_position only affect costs of the first day- represents the position where we come from. \n",
    "    # It will be used to determine if we change a position right before our backtest\n",
    "    \n",
    "    # We calculate the commision paid right before the first day, with respect to the previous position. Useful for WF analysis\n",
    "    # Also the equity after such commision\n",
    "    entry_commision = abs(df['Strat_position'].iloc[0] - previous_position) * commision\n",
    "    equity_after_first_entry = ini_equity*(1-entry_commision)\n",
    "\n",
    "    # commission_paid_pct will place a commision on the days that we have a change in Strat_position with respect to following day\n",
    "    # Position after transactions at EOD, to have appropriate position for following day\n",
    "    Strat_position = df['Strat_position'].shift(periods = -1)\n",
    "    df['_commission_paid_pct'] = df['Strat_position'].sub(Strat_position) \\\n",
    "                                    .abs() \\\n",
    "                                    .mul(commision) \\\n",
    "                                    .fillna(0) # Commision for last day\n",
    "\n",
    "    # Strat_cum_ret = [(1+Market_daily_ret*Strat_position) * (1 - _commission_paid_pct)].cumprod() * equity_after_first_entry\n",
    "    df['Strat_cum_ret'] = df['Market_daily_ret'].mul(df['Strat_position']).add(1) \\\n",
    "                            .mul(1-df['_commission_paid_pct']) \\\n",
    "                            .cumprod() \\\n",
    "                            .mul(equity_after_first_entry)\n",
    "    \n",
    "    # Costs (in USD) = Strat_cum_ret.shift() * [[Market_Daily_ret*Strat_position] + 1] * (commission_in_pct)\n",
    "    df['Costs'] = df['Strat_cum_ret'].shift(fill_value=equity_after_first_entry) \\\n",
    "            .mul(df['Market_daily_ret'].mul(df['Strat_position']).add(1)) \\\n",
    "            .mul(df['_commission_paid_pct'])\n",
    "    df['Costs'].iat[0] += (ini_equity - equity_after_first_entry)\n",
    "    \n",
    "    df['Strat_daily_ret'] = df['Strat_cum_ret'].pct_change(fill_value=ini_equity)\n",
    "    \n",
    "    # Market returns\n",
    "    df['Market_cum_ret'] = _get_cum_ret_from_daily_pct_ret(df['Market_daily_ret'], ini_equity=ini_equity, costs=0.0)\n",
    "    \n",
    "    cols = ['Close', 'Market_daily_ret', 'Strat_daily_ret', 'Strat_position', 'Costs', 'Long_only', 'Market_cum_ret', 'Strat_cum_ret']\n",
    "    df = df.loc[:, cols]\n",
    "    \n",
    "    return df"
   ]
  },
  {
   "cell_type": "markdown",
   "metadata": {
    "heading_collapsed": true
   },
   "source": [
    "## Walk-forward functions"
   ]
  },
  {
   "cell_type": "code",
   "execution_count": 21,
   "metadata": {
    "ExecuteTime": {
     "end_time": "2021-01-04T22:03:45.808332Z",
     "start_time": "2021-01-04T22:03:45.804020Z"
    },
    "code_folding": [],
    "hidden": true
   },
   "outputs": [
    {
     "data": {
      "text/plain": [
       "\"\\nBuilds the cummulative return of the strategy and market between two dates.\\nReceives a df with the performance of several OOS periods joined in 'Strat_daily_ret'\\n\""
      ]
     },
     "execution_count": 21,
     "metadata": {},
     "output_type": "execute_result"
    }
   ],
   "source": [
    "\"\"\"\n",
    "Builds the cummulative return of the strategy and market between two dates.\n",
    "Receives a df with the performance of several OOS periods joined in 'Strat_daily_ret'\n",
    "\"\"\"\n",
    "def prepare_oos_df(df, ini_equity=ini_equity_default, commision=commision_default):\n",
    "    cols = ['Close', 'Market_daily_ret', 'Strat_daily_ret', 'Strat_position', 'Long_only', 'Costs']\n",
    "    results_df = df[cols].copy()\n",
    "\n",
    "    results_df = _get_returns_from_strat_position(results_df, ini_equity=ini_equity, commision=commision, previous_position=0)\n",
    "    \n",
    "    return results_df"
   ]
  },
  {
   "cell_type": "code",
   "execution_count": 1,
   "metadata": {
    "ExecuteTime": {
     "end_time": "2021-01-06T19:50:41.108390Z",
     "start_time": "2021-01-06T19:50:41.103290Z"
    },
    "hidden": true
   },
   "outputs": [],
   "source": [
    "def prepare_wf_info_str(param1_list, param2_list, IS_start, IS_end, OOS_start, OOS_end, memory_len):\n",
    "    num_combinations = len(param1_list)*len(param1_list)\n",
    "    num_is_years = round((IS_end[0]-IS_start[0]).days/365, 0)\n",
    "    num_oos_years = round((OOS_end[0]-OOS_start[0]).days/365, 0)\n",
    "    info_wf_str = (f'Running {num_combinations} backtests on \\n'\n",
    "                   f'\\t{len(IS_start)} IS rolling windows of {num_is_years} years\\n'\n",
    "                   f'\\t{len(OOS_start)} OOS rolling windows of {num_oos_years} years\\n'\n",
    "                   f'->Total of {num_combinations*len(IS_start)+len(OOS_start)*2} backtests'\n",
    "                   f'\\tMemory of {memory_len} IS periods\\n'\n",
    "                  )\n",
    "\n",
    "    return info_wf_str"
   ]
  },
  {
   "cell_type": "code",
   "execution_count": 22,
   "metadata": {
    "ExecuteTime": {
     "end_time": "2021-01-04T22:03:45.818004Z",
     "start_time": "2021-01-04T22:03:45.814200Z"
    },
    "code_folding": [],
    "hidden": true
   },
   "outputs": [],
   "source": [
    "def print_periods(IS_start_years, IS_end_years, OOS_start_years, OOS_end_years):\n",
    "    print(\"Number of periods: {} : {}     {} : {}\".format(len(IS_start_years), len(IS_end_years), len(OOS_start_years), len(OOS_end_years)))\n",
    "    print(\"\\tIn SAMPLE\\t\\tOOS\")\n",
    "    i = 0\n",
    "    for iss, ie, oi, oe in zip(IS_start_years, IS_end_years, OOS_start_years, OOS_end_years):\n",
    "        if (i < 3) | (i > (len(IS_start_years) - 3)):\n",
    "            print(\"{:%Y-%m-%d} : {:%Y-%m-%d} \\t {:%Y-%m-%d} : {:%Y-%m-%d}\".format(iss, ie, oi, oe))\n",
    "        elif (i == 4):\n",
    "            print(\"... ... ... ... ... ... \\t ... ... ... ... ... ...\")\n",
    "        i += 1"
   ]
  },
  {
   "cell_type": "code",
   "execution_count": 23,
   "metadata": {
    "ExecuteTime": {
     "end_time": "2021-01-04T22:03:45.828133Z",
     "start_time": "2021-01-04T22:03:45.822118Z"
    },
    "code_folding": [
     4
    ],
    "hidden": true
   },
   "outputs": [
    {
     "data": {
      "text/plain": [
       "'\\nChecks how many nan are around each element of a matrix. Useful to see the real numbers of neighbors of each element in the matrix.\\nReceives a matrix of type numpy.ndarray\\n'"
      ]
     },
     "execution_count": 23,
     "metadata": {},
     "output_type": "execute_result"
    }
   ],
   "source": [
    "\"\"\"\n",
    "Checks how many nan are around each element of a matrix. Useful to see the real numbers of neighbors of each element in the matrix.\n",
    "Receives a matrix of type numpy.ndarray\n",
    "\"\"\"\n",
    "def _check_nan_around_matrix(matrix):\n",
    "    n_rows = matrix.shape[0]\n",
    "    n_cols = matrix.shape[1]\n",
    "\n",
    "    num_nan_around = np.full((n_rows, n_cols), 0)\n",
    "\n",
    "    for i in range(n_rows):\n",
    "        for j in range(n_cols):\n",
    "            counter = 0\n",
    "            for ii in range(i-1, i+2):\n",
    "                if (ii >= 0) and (ii < n_rows):\n",
    "                    for jj in range(j-1, j+2):\n",
    "                        if (jj >= 0) and (jj < n_cols):\n",
    "                            if np.isnan(matrix[ii, jj]) == True:\n",
    "                                counter += 1\n",
    "            num_nan_around[i,j] = counter\n",
    "\n",
    "    return num_nan_around"
   ]
  },
  {
   "cell_type": "code",
   "execution_count": 24,
   "metadata": {
    "ExecuteTime": {
     "end_time": "2021-01-04T22:03:45.832598Z",
     "start_time": "2021-01-04T22:03:45.829680Z"
    },
    "code_folding": [
     0
    ],
    "hidden": true
   },
   "outputs": [],
   "source": [
    "def _get_robust_ir(strats_ir_matrix, num_neighbors_matrix):\n",
    "    \n",
    "    # strats_ir_matrix_neighbors = Sum of IR from neighbors / Number of neighbors\n",
    "    _sum_ir_neighbors = convolve2d(strats_ir_matrix, np.ones((3,3)),'same') - strats_ir_matrix    \n",
    "    _strats_ir_matrix_neighbors = np.divide(_sum_ir_neighbors, num_neighbors_matrix)\n",
    "    \n",
    "    # Robust_IR = (Individual SR + neighbors SR) / 2    \n",
    "    strats_ir_matrix_robust = np.divide(np.add(strats_ir_matrix, _strats_ir_matrix_neighbors), 2)\n",
    "    \n",
    "    return strats_ir_matrix_robust"
   ]
  },
  {
   "cell_type": "code",
   "execution_count": 25,
   "metadata": {
    "ExecuteTime": {
     "end_time": "2021-01-04T22:03:45.842136Z",
     "start_time": "2021-01-04T22:03:45.835124Z"
    },
    "code_folding": [
     0
    ],
    "hidden": true
   },
   "outputs": [],
   "source": [
    "def _get_weights(strats_ir_matrix_robust, market_ir, max_weight):\n",
    "    \n",
    "    ####### Assign a weight to each combination of params and choose the best historical combination #######\n",
    "    _num_nan = np.isnan(strats_ir_matrix_robust).sum() - 1\n",
    "    \n",
    "    # First we check if all IR are negative\n",
    "    all_negative = True if ((np.max(np.nan_to_num(strats_ir_matrix_robust, nan = -1)) < 0) & (market_ir < 0)) else False\n",
    "    \n",
    "    if (all_negative == True):\n",
    "        market_ir = np.abs(market_ir)\n",
    "        _no_negatives_strats_ir_matrix_robust = np.abs(strats_ir_matrix_robust)\n",
    "    else:\n",
    "        # We exclude the negative IRs to calculate the total_ir. also market_ir if negative\n",
    "        _no_negatives_strats_ir_matrix_robust = np.where(strats_ir_matrix_robust < 0, 0, strats_ir_matrix_robust)\n",
    "        if (market_ir < 0): market_ir = 0 \n",
    "    \n",
    "    # save sum of all ir in total_ir, including market_ir\n",
    "    _total_ir = np.sum(np.nan_to_num(_no_negatives_strats_ir_matrix_robust, nan=0)) + market_ir\n",
    "    \n",
    "    weights = np.divide(np.nan_to_num(_no_negatives_strats_ir_matrix_robust, nan=market_ir), _total_ir)\n",
    "        \n",
    "    #print(\"Sum of all Robust_IR: {:.3f}    Average (of positives): {:.3f}\".format(_total_ir, _total_ir/(_no_negatives_strats_ir_matrix_robust.size-_num_nan)))\n",
    "    \n",
    "    # We replace values with larger weight than the constraint of max_weight\n",
    "    weights = np.where(weights < max_weight, weights, max_weight)\n",
    "    \n",
    "    if (all_negative == True): weights = - weights\n",
    "    \n",
    "    return weights"
   ]
  },
  {
   "cell_type": "code",
   "execution_count": 27,
   "metadata": {
    "ExecuteTime": {
     "end_time": "2021-01-04T22:03:45.856929Z",
     "start_time": "2021-01-04T22:03:45.850378Z"
    },
    "code_folding": [
     5
    ],
    "hidden": true
   },
   "outputs": [
    {
     "data": {
      "text/plain": [
       "'\\nReceives SR of market and each tested parameter combination to return the best one. \\nBest one = max((SR of each element)*50% + (average SR of its neightbors)*50%)\\n'"
      ]
     },
     "execution_count": 27,
     "metadata": {},
     "output_type": "execute_result"
    }
   ],
   "source": [
    "\"\"\"\n",
    "Receives SR of market and each tested parameter combination to return the best one. \n",
    "Best one = max((SR of each element)*50% + (average SR of its neightbors)*50%)\n",
    "\"\"\"\n",
    "\n",
    "def get_best_combination(strats_ir_matrix, market_ir, num_neighbors_matrix, allow_long_only=True):\n",
    "    # Robust_ir without market_ir included\n",
    "    strats_ir_matrix_robust = _get_robust_ir(strats_ir_matrix, num_neighbors_matrix)\n",
    "        \n",
    "    # Get index from best IR\n",
    "    fast_index, slow_index = np.unravel_index(np.nanargmax(strats_ir_matrix_robust), strats_ir_matrix_robust.shape)\n",
    "\n",
    "    if (allow_long_only == True):\n",
    "        if market_ir > strats_ir_matrix_robust[fast_index, slow_index]:\n",
    "            fast_index = slow_index = -1\n",
    "    \n",
    "        # Now we add market_ir to robust_ir matrix\n",
    "        strats_ir_matrix_robust = np.nan_to_num(strats_ir_matrix_robust, nan=market_ir)\n",
    "\n",
    "    return fast_index, slow_index, strats_ir_matrix_robust"
   ]
  },
  {
   "cell_type": "code",
   "execution_count": 28,
   "metadata": {
    "ExecuteTime": {
     "end_time": "2021-01-04T22:03:45.868260Z",
     "start_time": "2021-01-04T22:03:45.858760Z"
    },
    "code_folding": [
     5
    ],
    "hidden": true
   },
   "outputs": [
    {
     "data": {
      "text/plain": [
       "'\\nReceives SR of market and each tested parameter combination to return the best one. \\nBest one = max((SR of each element)*50% + (average SR of its neightbors)*50%)\\n'"
      ]
     },
     "execution_count": 28,
     "metadata": {},
     "output_type": "execute_result"
    }
   ],
   "source": [
    "\"\"\"\n",
    "Receives SR of market and each tested parameter combination to return the best one. \n",
    "Best one = max((SR of each element)*50% + (average SR of its neightbors)*50%)\n",
    "\"\"\"\n",
    "# cum_weights\n",
    "def get_best_combination_with_memory(strats_ir_matrix, cum_weights, memory_len, market_ir, num_neighbors_matrix, \n",
    "                                     param1_list, param2_list, allow_long_only=True):\n",
    "    \n",
    "    # Robust_ir of current period. without market_ir included\n",
    "    strats_ir_matrix_robust = _get_robust_ir(strats_ir_matrix, num_neighbors_matrix)\n",
    "\n",
    "    if allow_long_only == False:\n",
    "        market_ir = 0\n",
    "        _num_nan = np.isnan(strats_ir_matrix).sum()\n",
    "    else: # allow_long_only == True:\n",
    "        _num_nan = np.isnan(strats_ir_matrix).sum() - 1\n",
    "    \n",
    "    # weights (with market_ir included)\n",
    "#     print(f\"Max_weight = {10/(strats_ir_matrix.size-_num_nan)}\")\n",
    "    weights = _get_weights(strats_ir_matrix_robust, market_ir, max_weight=10/(strats_ir_matrix.size-_num_nan)) #Original -> 10\n",
    "    \n",
    "    # Get last [memory_len] weights, and add current weight to the cummulative weights. With market_ir if allow_long_only=True\n",
    "    updated_cum_weights = weights if (memory_len == 0) else np.add(np.sum(cum_weights[-memory_len:], axis=0), weights)\n",
    "    \n",
    "    #print(np.round(np.flip(updated_cum_weights, axis=0), 4))\n",
    "\n",
    "    # Get index from best combination in cum_weights\n",
    "    param1_index, param2_index = np.unravel_index(np.argmax(updated_cum_weights), updated_cum_weights.shape)\n",
    "    \n",
    "    # Now we add market_ir to robust_ir matrix\n",
    "    strats_ir_matrix_robust = np.nan_to_num(strats_ir_matrix_robust, nan=market_ir)\n",
    "    \n",
    "    \n",
    "    buy_and_hold_cum_weight = Counter(updated_cum_weights.ravel()).most_common()[0][0]\n",
    "    best_comb_cum_weight = updated_cum_weights[param1_index, param2_index]\n",
    "    \n",
    "    #print(buy_and_hold_cum_weight)\n",
    "    #print(best_comb_cum_weight)\n",
    "    if  best_comb_cum_weight > buy_and_hold_cum_weight:\n",
    "        param1_best = param1_list[param1_index]\n",
    "        param2_best = param2_list[param2_index]\n",
    "    else: # If buy_and_hold performed better, we select buy_and_hold for the OOS\n",
    "        param1_best = 0\n",
    "        param2_best = 0\n",
    "\n",
    "    best_combination = {'param1': param1_best, 'param2': param2_best, 'param1_index': param1_index, 'param2_index': param2_index}\n",
    "    \n",
    "    return best_combination, strats_ir_matrix_robust, weights"
   ]
  },
  {
   "cell_type": "code",
   "execution_count": null,
   "metadata": {
    "hidden": true
   },
   "outputs": [],
   "source": []
  },
  {
   "cell_type": "code",
   "execution_count": 3,
   "metadata": {
    "ExecuteTime": {
     "end_time": "2021-01-07T14:18:39.714398Z",
     "start_time": "2021-01-07T14:18:39.707107Z"
    },
    "hidden": true
   },
   "outputs": [],
   "source": [
    "from functools import reduce\n",
    "\n",
    "def deep_get(_dict, keys):\n",
    "    return reduce(lambda d, key: d.get(key, None) if isinstance(d, dict) else None, keys, _dict)\n",
    "\n",
    "def deeper_get(_dict, key):\n",
    "    ret = []\n",
    "    for _d in _dict.keys():\n",
    "        ret.append(deep_get(_dict[_d], key))\n",
    "        #ret.append(reduce(lambda d, key: d.get(key, None) if isinstance(d, dict) else None, keys, _d))\n",
    "    return ret"
   ]
  }
 ],
 "metadata": {
  "kernelspec": {
   "display_name": "py37",
   "language": "python",
   "name": "py37"
  },
  "language_info": {
   "codemirror_mode": {
    "name": "ipython",
    "version": 3
   },
   "file_extension": ".py",
   "mimetype": "text/x-python",
   "name": "python",
   "nbconvert_exporter": "python",
   "pygments_lexer": "ipython3",
   "version": "3.7.9"
  },
  "toc": {
   "base_numbering": 1,
   "nav_menu": {},
   "number_sections": true,
   "sideBar": true,
   "skip_h1_title": false,
   "title_cell": "Table of Contents",
   "title_sidebar": "Contents",
   "toc_cell": false,
   "toc_position": {
    "height": "calc(100% - 180px)",
    "left": "10px",
    "top": "150px",
    "width": "320px"
   },
   "toc_section_display": true,
   "toc_window_display": false
  },
  "varInspector": {
   "cols": {
    "lenName": "8",
    "lenType": 16,
    "lenVar": 40
   },
   "kernels_config": {
    "python": {
     "delete_cmd_postfix": "",
     "delete_cmd_prefix": "del ",
     "library": "var_list.py",
     "varRefreshCmd": "print(var_dic_list())"
    },
    "r": {
     "delete_cmd_postfix": ") ",
     "delete_cmd_prefix": "rm(",
     "library": "var_list.r",
     "varRefreshCmd": "cat(var_dic_list()) "
    }
   },
   "types_to_exclude": [
    "module",
    "function",
    "builtin_function_or_method",
    "instance",
    "_Feature"
   ],
   "window_display": false
  }
 },
 "nbformat": 4,
 "nbformat_minor": 4
}
