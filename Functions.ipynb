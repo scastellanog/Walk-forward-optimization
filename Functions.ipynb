{
 "cells": [
  {
   "cell_type": "markdown",
   "metadata": {},
   "source": [
    "## Imports"
   ]
  },
  {
   "cell_type": "code",
   "execution_count": 20,
   "metadata": {
    "ExecuteTime": {
     "end_time": "2020-11-23T17:46:20.057593Z",
     "start_time": "2020-11-23T17:46:20.049053Z"
    }
   },
   "outputs": [
    {
     "data": {
      "text/html": [
       "<style>.output_png img {display: block;margin-left: auto;margin-right: auto;text-align: center;vertical-align: middle;} </style>"
      ],
      "text/plain": [
       "<IPython.core.display.HTML object>"
      ]
     },
     "execution_count": 20,
     "metadata": {},
     "output_type": "execute_result"
    }
   ],
   "source": [
    "#Delete me\n",
    "# Settings for notebook visualization\n",
    "from IPython.core.interactiveshell import InteractiveShell\n",
    "InteractiveShell.ast_node_interactivity = 'all'\n",
    "%matplotlib inline\n",
    "from IPython.core.display import HTML\n",
    "HTML(\"\"\"<style>.output_png img {display: block;margin-left: auto;margin-right: auto;text-align: center;vertical-align: middle;} </style>\"\"\")"
   ]
  },
  {
   "cell_type": "code",
   "execution_count": 21,
   "metadata": {
    "ExecuteTime": {
     "end_time": "2020-11-23T17:46:20.065347Z",
     "start_time": "2020-11-23T17:46:20.059859Z"
    },
    "code_folding": []
   },
   "outputs": [
    {
     "data": {
      "text/html": [
       "<style>.output_png img {display: block;margin-left: auto;margin-right: auto;} </style>"
      ],
      "text/plain": [
       "<IPython.core.display.HTML object>"
      ]
     },
     "execution_count": 21,
     "metadata": {},
     "output_type": "execute_result"
    }
   ],
   "source": [
    "# Necessary imports\n",
    "import yfinance as yf\n",
    "import numpy as np\n",
    "import pandas as pd\n",
    "import matplotlib.pyplot as plt\n",
    "import seaborn as sns\n",
    "import quantstats as qs\n",
    "import statistics as st\n",
    "import os\n",
    "from datetime import datetime, timedelta\n",
    "from matplotlib.colors import DivergingNorm\n",
    "from scipy.signal import convolve2d\n",
    "from IPython.core.display import HTML\n",
    "from inspect import getsource\n",
    "HTML(\"\"\"<style>.output_png img {display: block;margin-left: auto;margin-right: auto;} </style>\"\"\")"
   ]
  },
  {
   "cell_type": "code",
   "execution_count": 22,
   "metadata": {
    "ExecuteTime": {
     "end_time": "2020-11-23T17:46:20.073464Z",
     "start_time": "2020-11-23T17:46:20.067649Z"
    },
    "code_folding": []
   },
   "outputs": [],
   "source": [
    "# Other settings\n",
    "qs.extend_pandas()\n",
    "\n",
    "# Settings for plot visualization\n",
    "plt.style.use('seaborn-darkgrid')\n",
    "\n",
    "#plt.rcParams.keys()\n",
    "plt.rcParams['figure.dpi'] = 200\n",
    "plt.rcParams[\"figure.figsize\"] = (12,3.5) #(12,5)\n",
    "plt.rcParams['axes.grid'] = True\n",
    "plt.rcParams['grid.linewidth'] = 0.4\n",
    "#plt.rcParams['xtick.label.allignment'] = 'center'\n",
    "\n",
    "plt.rcParams['xtick.bottom'] = plt.rcParams['ytick.labelright'] = True\n",
    "plt.rcParams['ytick.left'] = plt.rcParams['ytick.right'] = True\n",
    "\n",
    "plt.rcParams['lines.linewidth'] = 1.2\n",
    "#plt.rcParams['lines.markersize'] = 0.5\n",
    "plt.rcParams['patch.edgecolor'] = 'k' # Legend border \n",
    "plt.rcParams['legend.facecolor'] = 'w'\n",
    "plt.rcParams[\"legend.frameon\"] = True\n",
    "\n",
    "np.set_printoptions(edgeitems=40, linewidth=1000)\n",
    "\n",
    "pd.set_option(\"display.precision\", 6)\n",
    "pd.set_option('display.max_columns', 500)\n",
    "pd.set_option('display.width', 1000)\n",
    "#print(\"Notebook parameters set correctly\")"
   ]
  },
  {
   "cell_type": "code",
   "execution_count": 23,
   "metadata": {
    "ExecuteTime": {
     "end_time": "2020-11-23T17:46:20.078296Z",
     "start_time": "2020-11-23T17:46:20.075812Z"
    }
   },
   "outputs": [],
   "source": [
    "os.chdir(\"/Users/Sergio/Documents/Master_QF/Thesis/Code/Algorithmic Strategies/\")"
   ]
  },
  {
   "cell_type": "code",
   "execution_count": 24,
   "metadata": {
    "ExecuteTime": {
     "end_time": "2020-11-23T17:46:20.082978Z",
     "start_time": "2020-11-23T17:46:20.080227Z"
    }
   },
   "outputs": [],
   "source": [
    "global_fast_ma = 0\n",
    "global_slow_ma = 0"
   ]
  },
  {
   "cell_type": "markdown",
   "metadata": {},
   "source": [
    "## Data"
   ]
  },
  {
   "cell_type": "code",
   "execution_count": 5,
   "metadata": {
    "ExecuteTime": {
     "end_time": "2020-11-24T17:03:15.839835Z",
     "start_time": "2020-11-24T17:03:15.837074Z"
    }
   },
   "outputs": [],
   "source": [
    "ini_equity_default = 100\n",
    "commision_default = 0.000111538462 # 2/130000 + 12.5/130000\n",
    "#commision_default = 0.0005 # Slightly Bbgger commision, for better visualization\n",
    "# 0.01 = 1% of the cummulative return (equity)"
   ]
  },
  {
   "cell_type": "code",
   "execution_count": 26,
   "metadata": {
    "ExecuteTime": {
     "end_time": "2020-11-23T17:46:20.092616Z",
     "start_time": "2020-11-23T17:46:20.090675Z"
    }
   },
   "outputs": [],
   "source": [
    "#https://finance.yahoo.com/quote/%5EIRX?p=^IRX&.tsrc=fin-srch\n",
    "# 13-week treasury bills\n",
    "# All treasury bills from yahoo: https://finance.yahoo.com/bonds?.tsrc=fin-srch\n",
    "# rf_13w = yf.download(\"^IRX\", auto_adjust=True, start=\"1928-01-01\")\n",
    "# rf_10y = yf.download(\"^TNX\", auto_adjust=True, start=\"1928-01-01\")\n",
    "# rf = pd.concat([rf_13w['Close'], rf_10y['Close']], axis=1)\n",
    "# rf.columns = ['13W', '10Y']\n",
    "# rf.tail()\n",
    "#rf.plot()"
   ]
  },
  {
   "cell_type": "code",
   "execution_count": 27,
   "metadata": {
    "ExecuteTime": {
     "end_time": "2020-11-23T17:46:20.098773Z",
     "start_time": "2020-11-23T17:46:20.094547Z"
    },
    "code_folding": []
   },
   "outputs": [],
   "source": [
    "# Load DF with SP500 data\n",
    "def get_sp500_data(start_date=\"1928-01-01\", from_local_file=True, save_to_file=False):\n",
    "    if from_local_file == True:\n",
    "        data = pd.read_pickle('data/SP500_hist_data.pkl')\n",
    "    else:\n",
    "        # Download data from yfinance\n",
    "        data = yf.download(\"^GSPC\", auto_adjust=True, start=start_date)\n",
    "        if save_to_file == True:\n",
    "            data.to_pickle(\"data/SP500_hist_data.pkl\")\n",
    "    return data"
   ]
  },
  {
   "cell_type": "code",
   "execution_count": 28,
   "metadata": {
    "ExecuteTime": {
     "end_time": "2020-11-23T17:46:20.127614Z",
     "start_time": "2020-11-23T17:46:20.100899Z"
    }
   },
   "outputs": [],
   "source": [
    "full_df = get_sp500_data()\n",
    "full_df['Market_daily_ret'] = full_df['Close'].pct_change().fillna((full_df['Close']-full_df['Open'])/full_df['Open'])\n",
    "full_df = full_df[['Close', 'Open', 'Market_daily_ret']]"
   ]
  },
  {
   "cell_type": "markdown",
   "metadata": {},
   "source": [
    "## Strategy functions"
   ]
  },
  {
   "cell_type": "code",
   "execution_count": 29,
   "metadata": {
    "ExecuteTime": {
     "end_time": "2020-11-23T17:46:20.134355Z",
     "start_time": "2020-11-23T17:46:20.129382Z"
    },
    "code_folding": [
     0
    ]
   },
   "outputs": [],
   "source": [
    "def get_strategy_position(df, strategy): #DELETE??   \n",
    "    #Example:\n",
    "    #first_position = get_strategy_position_ma_crossover(full_df.iloc[loc - 1].to_frame().T, fast_ma, slow_ma)[0]\n",
    "    loc = data.index.get_loc(df.index[0])\n",
    "    strat_first_pos_str = getsource(strategy).split(': ')[1].split(')')[0] + \")\"\n",
    "    strat_first_pos_str = (\"get_strategy_position_\" + strat_first_pos_str).replace(\"df\", \"full_df.iloc[loc - 1].to_frame().T\")\n",
    "    first_position = eval(strat_first_pos_str)[0]\n",
    "\n",
    "    #Example of how we want to call the function:\n",
    "    #df['Strat_position'] = get_strategy_position_ma_crossover(df.copy(), fast_ma, slow_ma)\n",
    "    strat_str = getsource(strategy).split(': ')[1].split(')')[0] + \")\"\n",
    "    function_str = \"get_strategy_position_\" + strat_str\n",
    "    df['Strat_position'] = eval(function_str)\n",
    "    \n",
    "    df['Long_only'] = 1 if (\"buy_and_hold\" in function_str) else 0\n",
    "    \n",
    "    return -1, -1, -1\n",
    "    #return df['Strat_position'][0], df['Strat_position'], df['Long_only']\n",
    "    #    return first_position, df['Strat_position'], df['Long_only']"
   ]
  },
  {
   "cell_type": "code",
   "execution_count": 30,
   "metadata": {
    "ExecuteTime": {
     "end_time": "2020-11-23T17:46:20.140757Z",
     "start_time": "2020-11-23T17:46:20.137601Z"
    },
    "code_folding": []
   },
   "outputs": [],
   "source": [
    "# Define if the strategy position (1=fast_ma higher than slow_ma, -1=short)\n",
    "def buy_and_hold(df):\n",
    "    position = pd.Series(1.0, index=df.index, dtype='float64')\n",
    "    long_only = pd.Series(1.0, index=df.index, dtype='float64')\n",
    "    \n",
    "    first_position = 1\n",
    "\n",
    "    return position, long_only, first_position"
   ]
  },
  {
   "cell_type": "code",
   "execution_count": 58,
   "metadata": {
    "ExecuteTime": {
     "end_time": "2020-11-23T21:32:50.736085Z",
     "start_time": "2020-11-23T21:32:50.728377Z"
    },
    "code_folding": []
   },
   "outputs": [],
   "source": [
    "# Define if the strategy position (1=long, 0=neutral, -1=short)\n",
    "def ma_crossover(df, fast_ma, slow_ma, first_pos_only=False):    \n",
    "    if (fast_ma == 0) & (slow_ma == 0): # Buy and hold \n",
    "        print(\"buy_hold\")\n",
    "        return buy_and_hold(df)\n",
    "        #position = pd.Series(1.0, index=df.index, dtype='float64')\n",
    "\n",
    "    elif fast_ma >= slow_ma: # Not valid parameters. Out of the market\n",
    "        return buy_and_hold(df)\n",
    "        #position = pd.Series(np.nan, index=df.index, dtype='float64')\n",
    "\n",
    "    else:\n",
    "        df['fast_ma'] = full_df['Close'].rolling(window=fast_ma).mean()\n",
    "        df['slow_ma'] = full_df['Close'].rolling(window=slow_ma).mean()\n",
    "        df['fast-slow'] = df['fast_ma'].sub(df['slow_ma'])\n",
    "\n",
    "        conditions = [df['fast-slow'] > 0, df['fast-slow'] < 0, df['fast-slow'] == 0]\n",
    "        signals = [1.0, 0.0, 1.0]\n",
    "        \n",
    "        position = pd.Series(np.select(conditions, signals), index=df.index, dtype='float64')\n",
    "    \n",
    "    long_only = pd.Series(0.0, index=df.index, dtype='float64')\n",
    "    \n",
    "    ################################\n",
    "    if (first_pos_only == True): # This is when we want to get only the position for the first day\n",
    "        return _, _, position[0]\n",
    "    else: \n",
    "        loc = full_df.index.get_loc(df.index[0])\n",
    "        first_position = ma_crossover(full_df.iloc[loc - 1].to_frame().T, fast_ma, slow_ma, first_pos_only=True)[2]\n",
    "    \n",
    "    return position, long_only, first_position"
   ]
  },
  {
   "cell_type": "markdown",
   "metadata": {},
   "source": [
    "## Backtest functions"
   ]
  },
  {
   "cell_type": "code",
   "execution_count": 32,
   "metadata": {
    "ExecuteTime": {
     "end_time": "2020-11-23T17:46:20.155457Z",
     "start_time": "2020-11-23T17:46:20.152160Z"
    },
    "code_folding": [
     0
    ]
   },
   "outputs": [],
   "source": [
    "def get_cum_ret_from_daily_pct_ret(daily_returns, costs=0.0, ini_equity=ini_equity_default):    \n",
    "    if (isinstance(costs, pd.Series) == False):\n",
    "        costs = pd.Series(0, index=daily_returns.index)\n",
    "    \n",
    "    # Calculate cummulative returns as: cum_returns = ini_equity * CUMPROD ((1+daily_ret) * (1-costs))\n",
    "    cum_returns = daily_returns.add(1).mul(1-costs).cumprod().mul(ini_equity)\n",
    "    \n",
    "    return cum_returns"
   ]
  },
  {
   "cell_type": "code",
   "execution_count": 33,
   "metadata": {
    "ExecuteTime": {
     "end_time": "2020-11-23T17:46:20.161446Z",
     "start_time": "2020-11-23T17:46:20.157267Z"
    },
    "code_folding": []
   },
   "outputs": [],
   "source": [
    "def backtest_print_plot(df, strategy, strat_name=\"ma_crossover\", strat_params=(0,0), previous_position=0, ini_equity=ini_equity_default, commision=commision_default, figsize=(12,3.5), with_legend=False): #(12,5)    \n",
    "    df, _, strat_pnl, strat_ir, market_pnl, market_ir = backtest_strat(df, strategy, previous_position=previous_position, \n",
    "                                                                       ini_equity=ini_equity, commision=commision)\n",
    "    print_backtest_stats(df, strat_pnl, strat_ir, market_pnl, market_ir, strat_name=strat_name, strat_params=strat_params) \n",
    "    show_plot(df, figsize=figsize, with_legend=with_legend)\n",
    "    \n",
    "    return df"
   ]
  },
  {
   "cell_type": "code",
   "execution_count": 34,
   "metadata": {
    "ExecuteTime": {
     "end_time": "2020-11-23T17:46:20.171216Z",
     "start_time": "2020-11-23T17:46:20.163350Z"
    },
    "code_folding": []
   },
   "outputs": [
    {
     "data": {
      "text/plain": [
       "\"\\nbacktest_strat does the backtest of an strategy. It adds the following columns to the received dataframe: \\n    'Strat_daily_ret', 'Market_cum_ret', 'Strat_position', 'Long_Only', 'Costs'\\nEx: \\nret, last_position, strat_pnl, strat_ir = backtest_strat(df, lambda: ma_crossover(df, 75, 200))\\n\""
      ]
     },
     "execution_count": 34,
     "metadata": {},
     "output_type": "execute_result"
    }
   ],
   "source": [
    "\"\"\"\n",
    "backtest_strat does the backtest of an strategy. It adds the following columns to the received dataframe: \n",
    "    'Strat_daily_ret', 'Market_cum_ret', 'Strat_position', 'Long_Only', 'Costs'\n",
    "Ex: \n",
    "ret, last_position, strat_pnl, strat_ir = backtest_strat(df, lambda: ma_crossover(df, 75, 200))\n",
    "\"\"\"\n",
    "def backtest_strat(df, strategy, ini_equity=ini_equity_default, previous_position=0, commision=commision_default):    \n",
    "#    first_position, df['Strat_position'], df['Long_only'] = get_strategy_position(df.copy(), strategy)\n",
    "    df['Strat_position'], df['Long_only'], first_position  = strategy\n",
    "    \n",
    "    df = get_returns_from_strat_position(df, ini_equity=ini_equity, previous_position=previous_position, first_position=first_position, commision=commision)\n",
    "    \n",
    "    last_position = df.loc[df.index[-2], 'Strat_position']\n",
    "    df.loc[df.index[-1], 'Strat_position'] = np.nan\n",
    "    \n",
    "    strat_pnl = (df.loc[df.index[-1], 'Strat_cum_ret'] / ini_equity) * 100\n",
    "    strat_ir = calculate_information_ratio_new(df['Strat_daily_ret'])\n",
    "    \n",
    "    market_pnl = (df.loc[df.index[-1], 'Market_cum_ret'] / ini_equity) * 100\n",
    "    market_ir = calculate_information_ratio_new(df['Market_daily_ret'])\n",
    "    \n",
    "    return df, last_position, strat_pnl, strat_ir, market_pnl, market_ir"
   ]
  },
  {
   "cell_type": "code",
   "execution_count": 35,
   "metadata": {
    "ExecuteTime": {
     "end_time": "2020-11-23T17:46:20.180926Z",
     "start_time": "2020-11-23T17:46:20.172947Z"
    },
    "code_folding": [
     5
    ]
   },
   "outputs": [
    {
     "data": {
      "text/plain": [
       "\"\\nGiven 'Market_daily_ret' and 'Strat_position', adds to df: 'Strat_daily_ret', 'Market_cum_ret', 'Strat_cum_ret', 'Costs'\\nFormula:\\n   - Strat_cum_ret = [(1+Market_daily_ret*Strat_position.shift()) * (1-commission_paid_pct)].cumprod() * ini_equity\\n\""
      ]
     },
     "execution_count": 35,
     "metadata": {},
     "output_type": "execute_result"
    }
   ],
   "source": [
    "\"\"\"\n",
    "Given 'Market_daily_ret' and 'Strat_position', adds to df: 'Strat_daily_ret', 'Market_cum_ret', 'Strat_cum_ret', 'Costs'\n",
    "Formula:\n",
    "   - Strat_cum_ret = [(1+Market_daily_ret*Strat_position.shift()) * (1-commission_paid_pct)].cumprod() * ini_equity\n",
    "\"\"\"\n",
    "def get_returns_from_strat_position(df, ini_equity=ini_equity_default, previous_position=0, first_position=0 , commision=commision_default):\n",
    "    # Previous_position only affect costs. represents the position where we come from. It will be used to determine if we change a position right before our backtest\n",
    "    # First position affects cummulative returns. Position for the first day will be the same as for the second day\n",
    "    \n",
    "    # commission_paid_pct will place a commision on the days that we have a change in Strat_position\n",
    "    df['commission_paid_pct'] = df['Strat_position'].sub(df['Strat_position'].shift(fill_value=previous_position)) \\\n",
    "                                .abs() \\\n",
    "                                .mul(commision)\n",
    "    \n",
    "    # Strat_cum_ret = [(1+Market_daily_ret*Strat_position) * (1-commission_paid_pct)].cumprod() * ini_equity\n",
    "    df['Strat_cum_ret'] = df['Market_daily_ret'].mul(df['Strat_position'].shift(fill_value=first_position)).add(1) \\\n",
    "                            .mul(1-df['commission_paid_pct']) \\\n",
    "                            .cumprod() \\\n",
    "                            .mul(ini_equity)\n",
    "#    df.loc[df.index[0], 'Strat_cum_ret'] = ini_equity * (1 + df['Market_daily_ret'][0]*df['Strat_position'][0]) * (1-df['commission_paid_pct'][0])\n",
    "    \n",
    "    # Costs (in USD) = Strat_cum_ret.shift() * [[Market_Daily_ret*Strat_position.shift()] + 1] * (commission_in_pct)\n",
    "    df['Costs'] = df['Strat_cum_ret'].shift(fill_value=ini_equity) \\\n",
    "            .mul(df['Market_daily_ret'].mul(df['Strat_position'].shift(fill_value=previous_position)).add(1)) \\\n",
    "            .mul(df['commission_paid_pct'])\n",
    "\n",
    "    df['Strat_daily_ret'] = df['Strat_cum_ret'].pct_change(fill_value=ini_equity)\n",
    "    \n",
    "    # Market returns\n",
    "    df['Market_cum_ret'] = get_cum_ret_from_daily_pct_ret(df['Market_daily_ret'], ini_equity=ini_equity)\n",
    "    \n",
    "    cols = ['Close', 'Market_daily_ret', 'Strat_daily_ret', 'Strat_position', 'Costs', 'Long_only', 'Market_cum_ret', 'Strat_cum_ret']\n",
    "    df = df.loc[:, cols]\n",
    "\n",
    "    df.loc[df.index[-1], 'Strat_position'] = np.nan # We leave the last position (position for the following day) as NaN    \n",
    "    \n",
    "    return df"
   ]
  },
  {
   "cell_type": "markdown",
   "metadata": {},
   "source": [
    "## Walk-forward functions"
   ]
  },
  {
   "cell_type": "code",
   "execution_count": 36,
   "metadata": {
    "ExecuteTime": {
     "end_time": "2020-11-23T17:46:20.189998Z",
     "start_time": "2020-11-23T17:46:20.183084Z"
    },
    "code_folding": []
   },
   "outputs": [
    {
     "data": {
      "text/plain": [
       "\"\\nBuilds the cummulative return of the strategy and market between two dates.\\nReceives a df with the performance of several OOS periods joined in 'Strat_daily_ret'\\n\""
      ]
     },
     "execution_count": 36,
     "metadata": {},
     "output_type": "execute_result"
    }
   ],
   "source": [
    "\"\"\"\n",
    "Builds the cummulative return of the strategy and market between two dates.\n",
    "Receives a df with the performance of several OOS periods joined in 'Strat_daily_ret'\n",
    "\"\"\"\n",
    "def prepare_oos_df(df, ini_equity=ini_equity_default, commision=commision_default):\n",
    "    cols = ['Close', 'Market_daily_ret', 'Strat_daily_ret', 'Strat_position', 'Long_only', 'Costs']\n",
    "    results_df = df[cols].copy()\n",
    "\n",
    "    first_pos = results_df.loc[results_df.index[0], 'Strat_position'] \n",
    "    last_pos = results_df.loc[results_df.index[-2], 'Strat_position']\n",
    "    \n",
    "    # Replace NaN values in 'Strat_position' (last one from each OOS window) by the next 'Strat_postion' value\n",
    "    results_df['Strat_position'].fillna(results_df['Strat_position'].shift(-1, fill_value=last_pos), inplace=True)\n",
    "    \n",
    "    results_df = get_returns_from_strat_position(results_df, ini_equity=ini_equity, commision=commision,\n",
    "                                                 previous_position=0, first_position=first_pos)\n",
    "    \n",
    "    return results_df"
   ]
  },
  {
   "cell_type": "code",
   "execution_count": 37,
   "metadata": {
    "ExecuteTime": {
     "end_time": "2020-11-23T17:46:20.194668Z",
     "start_time": "2020-11-23T17:46:20.191517Z"
    },
    "code_folding": [
     0
    ]
   },
   "outputs": [],
   "source": [
    "def print_periods(IS_start_years, IS_end_years, OOS_start_years, OOS_end_years):\n",
    "    print(\"\\tIn SAMPLE\\t\\tOOS\")\n",
    "    for iss, ie, oi, oe in zip(IS_start_years, IS_end_years, OOS_start_years, OOS_end_years):\n",
    "        print(\"{:%Y-%m-%d} : {:%Y-%m-%d} \\t {:%Y-%m-%d} : {:%Y-%m-%d}\".format(iss, ie, oi, oe))\n",
    "    print(\"Number of periods: {} : {}     {} : {}\".format(len(IS_start_years), len(IS_end_years), len(OOS_start_years), len(OOS_end_years)))"
   ]
  },
  {
   "cell_type": "code",
   "execution_count": 38,
   "metadata": {
    "ExecuteTime": {
     "end_time": "2020-11-23T17:46:20.204246Z",
     "start_time": "2020-11-23T17:46:20.196585Z"
    },
    "code_folding": [
     4
    ]
   },
   "outputs": [
    {
     "data": {
      "text/plain": [
       "'\\nChecks how many nan are around each element of a matrix. Useful to see the real numbers of neighbors of each element in the matrix.\\nReceives a matrix of type numpy.ndarray\\n'"
      ]
     },
     "execution_count": 38,
     "metadata": {},
     "output_type": "execute_result"
    }
   ],
   "source": [
    "\"\"\"\n",
    "Checks how many nan are around each element of a matrix. Useful to see the real numbers of neighbors of each element in the matrix.\n",
    "Receives a matrix of type numpy.ndarray\n",
    "\"\"\"\n",
    "def check_nan_around_matrix(matrix):\n",
    "    n_rows = matrix.shape[0]\n",
    "    n_cols = matrix.shape[1]\n",
    "\n",
    "    num_nan_around = np.full((n_rows, n_cols), 0)\n",
    "\n",
    "    for i in range(n_rows):\n",
    "        for j in range(n_cols):\n",
    "            counter = 0\n",
    "            for ii in range(i-1, i+2):\n",
    "                if (ii >= 0) and (ii < n_rows):\n",
    "                    for jj in range(j-1, j+2):\n",
    "                        if (jj >= 0) and (jj < n_cols):\n",
    "                            if np.isnan(matrix[ii, jj]) == True:\n",
    "                                counter += 1\n",
    "            num_nan_around[i,j] = counter\n",
    "\n",
    "    return num_nan_around"
   ]
  },
  {
   "cell_type": "code",
   "execution_count": 39,
   "metadata": {
    "ExecuteTime": {
     "end_time": "2020-11-23T17:46:20.211975Z",
     "start_time": "2020-11-23T17:46:20.205791Z"
    },
    "code_folding": [
     3
    ]
   },
   "outputs": [
    {
     "data": {
      "text/plain": [
       "'\\nChecks how many neighbors has each element of a matrix.\\n'"
      ]
     },
     "execution_count": 39,
     "metadata": {},
     "output_type": "execute_result"
    }
   ],
   "source": [
    "\"\"\"\n",
    "Checks how many neighbors has each element of a matrix.\n",
    "\"\"\"\n",
    "def get_num_neighbors(param_1_list, param_2_list):\n",
    "    n_rows = len(param_1_list)\n",
    "    n_cols = len(param_1_list)\n",
    "    \n",
    "    n_neighbors = np.full((n_rows, n_cols), 8.0) # Default number of neighbors of each cell\n",
    "    n_neighbors[[0,n_cols-1], :] = n_neighbors[:, [0,n_cols-1]] = 5 # Edges\n",
    "    n_neighbors[[0,n_cols-1], [0,n_cols-1]] = n_neighbors[[n_rows-1,0], [0,n_cols-1]] = 3 # Corners\n",
    "\n",
    "    for i in range(n_rows):\n",
    "        for j in range(n_cols):\n",
    "            if param_1_list[i] >= param_2_list[j]:\n",
    "                n_neighbors[i,j] = np.nan\n",
    "\n",
    "    num_notnan_neighbors = n_neighbors - check_nan_around_matrix(n_neighbors)\n",
    "    \n",
    "    return num_notnan_neighbors"
   ]
  },
  {
   "cell_type": "code",
   "execution_count": 40,
   "metadata": {
    "ExecuteTime": {
     "end_time": "2020-11-23T17:46:20.220131Z",
     "start_time": "2020-11-23T17:46:20.214100Z"
    },
    "code_folding": []
   },
   "outputs": [
    {
     "data": {
      "text/plain": [
       "'\\nReceives SR of market and each tested parameter combination to return the best one. \\nBest one = max((SR of each element)*50% + (average SR of its neightbors)*50%)\\n'"
      ]
     },
     "execution_count": 40,
     "metadata": {},
     "output_type": "execute_result"
    }
   ],
   "source": [
    "\"\"\"\n",
    "Receives SR of market and each tested parameter combination to return the best one. \n",
    "Best one = max((SR of each element)*50% + (average SR of its neightbors)*50%)\n",
    "\"\"\"\n",
    "def get_best_combination(strats_ir_matrix, market_ir, num_neighbors_matrix, allow_long_only=True):\n",
    "    n = len(strats_ir_matrix)\n",
    "\n",
    "    sum_ir_neighbors = convolve2d(strats_ir_matrix, np.ones((3,3)),'same') - strats_ir_matrix\n",
    "        \n",
    "    strats_ir_matrix_neighbors = np.divide(sum_ir_neighbors, num_neighbors_matrix)\n",
    "    \n",
    "    # (Individual SR + neighbors SR) / 2\n",
    "    strats_ir_matrix_combined = np.divide(np.add(strats_ir_matrix, strats_ir_matrix_neighbors), 2)\n",
    "    \n",
    "    strats_ir_matrix_combined = np.nan_to_num(strats_ir_matrix_combined, nan=market_ir)\n",
    "    \n",
    "    # Get index from best SR\n",
    "    fast_index, slow_index = np.unravel_index(np.argmax(strats_ir_matrix_combined, axis=None), strats_ir_matrix_combined.shape)\n",
    "\n",
    "    #print(\"Individual: {}-{}\".format(fast_ma[fast_index_ind], slow_ma[slow_index_ind]))\n",
    "    #print(\"With NN: {}-{}\".format(fast_ma[fast_index], slow_ma[slow_index]))\n",
    "    #print(\"Best: {}-{}\".format(fast_ma[fast_index], slow_ma[slow_index]))\n",
    "\n",
    "    return fast_index, slow_index, strats_ir_matrix_combined"
   ]
  },
  {
   "cell_type": "code",
   "execution_count": 55,
   "metadata": {
    "ExecuteTime": {
     "end_time": "2020-11-23T18:40:26.058231Z",
     "start_time": "2020-11-23T18:40:26.049510Z"
    },
    "code_folding": []
   },
   "outputs": [
    {
     "data": {
      "text/plain": [
       "'\\nRuns a backtest with all possible combinations and returns 2 matrices, one with pnl results, and one with SR\\nIn MA crossover strategy, param_1 refers to fast_ma. param_2 refers to slow_ma\\n\\n'"
      ]
     },
     "execution_count": 55,
     "metadata": {},
     "output_type": "execute_result"
    }
   ],
   "source": [
    "\"\"\"\n",
    "Runs a backtest with all possible combinations and returns 2 matrices, one with pnl results, and one with SR\n",
    "In MA crossover strategy, param_1 refers to fast_ma. param_2 refers to slow_ma\n",
    "\n",
    "\"\"\"\n",
    "def run_all_combinations(df, param_1_list, param_2_list, last_position):\n",
    "    strats_pnl_matrix = np.zeros((len(param_1_list),len(param_2_list)))\n",
    "    strats_ir_matrix = np.zeros((len(param_1_list),len(param_2_list)))\n",
    "\n",
    "    #buy and hold\n",
    "    strategy = buy_and_hold(df)\n",
    "    _, _, _, _, market_pnl, market_ir = backtest_strat(df, strategy, previous_position=last_position)\n",
    "    \n",
    "    for i, param_1 in enumerate(param_1_list): #fast_ma\n",
    "        for j, param_2 in enumerate(param_2_list): #slow_ma\n",
    "            if param_1 < param_2: # Constraint of ma_crossover\n",
    "                strategy = ma_crossover(df, param_1, param_2)\n",
    "                _, _, strat_pnl, strat_ir, _, _ = backtest_strat(df, strategy, previous_position=last_position)\n",
    "                strats_pnl_matrix[i,j] = strat_pnl\n",
    "                strats_ir_matrix[i,j] = strat_ir\n",
    "\n",
    "    return strats_pnl_matrix, strats_ir_matrix, market_pnl, market_ir"
   ]
  },
  {
   "cell_type": "markdown",
   "metadata": {},
   "source": [
    "## Plots"
   ]
  },
  {
   "cell_type": "code",
   "execution_count": 42,
   "metadata": {
    "ExecuteTime": {
     "end_time": "2020-11-23T17:46:20.253757Z",
     "start_time": "2020-11-23T17:46:20.230530Z"
    },
    "code_folding": []
   },
   "outputs": [],
   "source": [
    "def show_plot(df, benchmark=True, position=True, figsize=(12,3.6), with_legend=False, with_signals=False): #(12,5)\n",
    "    df_plot = df.copy()\n",
    "    first_day = df_plot.index[0]\n",
    "    last_day = df_plot.index[-1]\n",
    "    \n",
    "    fmt = '%Y-%m-%d' if first_day.year == last_day.year else '%Y'\n",
    "        \n",
    "    columns_colors_ax1 = [('Strat_cum_ret', 'b')]\n",
    "    \n",
    "    title = 'MA crossover strategy ({} : {})'.format(first_day.strftime(fmt), last_day.strftime(fmt))\n",
    "\n",
    "    if (benchmark == True):\n",
    "        title = 'SP500 vs ' + title\n",
    "        columns_colors_ax1.append(('Market_cum_ret', 'k'))\n",
    "\n",
    "    # PLOT\n",
    "    if position == True:\n",
    "        import matplotlib.dates as mdates\n",
    "        \n",
    "        fig, ax1 = plt.subplots(figsize=figsize)\n",
    "        ax2 = ax1.twinx()\n",
    "\n",
    "        [ax1.plot(df_plot.index, df_plot[column], label=column, color=color) for (column, color) in columns_colors_ax1[::-1]]\n",
    "        \n",
    "        columns_label_colors_ax2 = [('Strat_position', 'Strategy position', 'r')]\n",
    "        columns_label_colors_ax2 = [('Long_only', 'Only long position allowed', 'tab:brown'), ('Strat_position', 'Strategy position', 'g')]\n",
    "        df_plot['Long_only'] = df_plot['Long_only'] - 0.03\n",
    "        \n",
    "        [ax2.scatter(df_plot.index, df_plot[column], marker='s', s=1, label=lab, color=color) for (column, lab, color) in columns_label_colors_ax2]            \n",
    "        ax2.set(ylabel='Strategy Position', yticks=np.arange(-1.0,1.01,1))\n",
    "        ax2.set_ylim([-1.1,1.1])\n",
    "        ax2.tick_params(axis='y', direction='out', length=5)\n",
    "        \n",
    "        ax2.grid(False)\n",
    "        \n",
    "        handles, labels = ax2.get_legend_handles_labels()\n",
    "        if with_legend == True:\n",
    "            ax2.legend(handles[::-1], labels[::-1], loc='upper left', bbox_to_anchor=(0.55, -0.08), borderpad=0.5, markerscale=3) #borderpad=1\n",
    "        \n",
    "    else:\n",
    "        [ax1.plot(df_plot.index, df_plot[column], label=column, color=color) for (column, color) in columns_colors_ax1[::-1]]\n",
    "\n",
    "    from matplotlib import ticker\n",
    "    \n",
    "    # X-AXES\n",
    "    # Write a max of 20 major locators in x axis\n",
    "    n_years = last_day.year - first_day.year\n",
    "    freq = 1 if (n_years <= 20) else 5\n",
    "    years = mdates.YearLocator(freq)       \n",
    "    yearFmt = mdates.DateFormatter('%Y')\n",
    "    # Add the locators to the axis\n",
    "    ax1.xaxis.set_major_locator(years)\n",
    "    ax1.xaxis.set_major_formatter(yearFmt) # Add tick with every freq years\n",
    "    ax1.xaxis.set_minor_locator(mdates.YearLocator(1)) # every year\n",
    "    ax1.tick_params(axis='x', direction='out', which='major', length=4)\n",
    "    ax1.tick_params(axis='x', direction='out', which='minor', length=2)  \n",
    "    \n",
    "    loc = full_df.index.get_loc(first_day)\n",
    "    first_tick = full_df.index.values[loc-1]\n",
    "    loc = full_df.index.get_loc(last_day)\n",
    "    loc = loc if (loc == full_df.index.size - 1) else loc + 1 # Necessary to add one day checking for index size\n",
    "    last_tick = full_df.index.values[loc]\n",
    "    ax1.set_xlim([first_tick, last_tick])\n",
    "    \n",
    "    # Y-AXES\n",
    "    ax1.set(ylabel='Value (USD)', title=title)\n",
    "    ax1.tick_params(axis='y', direction='out', length=4)\n",
    "    #ax1.yaxis.set_minor_locator(ticker.MultipleLocator(250))\n",
    "    #ax1.tick_params(axis='y', direction='out', which='minor', length=2)\n",
    "    \n",
    "    # LEGEND\n",
    "    if with_legend == True:\n",
    "        # Put a legend below current axis, reversing the printing order and incresing linewidth\n",
    "        handles, labels = ax1.get_legend_handles_labels()\n",
    "        repl = {'Strat_cum_ret':'Strategy', 'Market_cum_ret':'Benchmark', 'Strat_position':'Strategy position'}\n",
    "        repl = {'Strat_cum_ret':'Strategy', 'Market_cum_ret':'Benchmark', 'Long_only':'Only long position allowed', 'Strat_position':'Strategy position'}\n",
    "        labels = [repl.get(n, n) for n in labels]\n",
    "        leg1 = ax1.legend(handles[::-1], labels[::-1], loc='upper right', bbox_to_anchor=(0.45, -0.08), borderpad=0.5)\n",
    "        [legobj.set_linewidth(3) for legobj in leg1.legendHandles]\n",
    "    \n",
    "    if with_signals == True:\n",
    "        buy_signal = df_plot['Strat_position'] > df_plot['Strat_position'].shift()\n",
    "        buy_marker = df_plot['Close']\n",
    "        buy_marker = buy_marker[buy_signal]\n",
    "        buy_dates = df_plot.index[buy_signal]\n",
    "        sell_signal = df_plot['Strat_position'] < df_plot['Strat_position'].shift()\n",
    "        sell_marker = df_plot['Close']\n",
    "        sell_marker = sell_marker[sell_signal]\n",
    "        sell_dates = df_plot.index[sell_signal]\n",
    "        ax1.scatter(buy_dates, buy_marker, marker='^', color='green', label='Buy');\n",
    "        ax1.scatter(sell_dates, sell_marker, marker='>', color='red', label='Exit');\n",
    "\n",
    "    # \n",
    "    ax1.set_zorder(1)\n",
    "    ax1.patch.set_visible(False)\n",
    "    ax2.set_zorder(0)\n",
    "    ax2.patch.set_visible(True)"
   ]
  },
  {
   "cell_type": "code",
   "execution_count": 43,
   "metadata": {
    "ExecuteTime": {
     "end_time": "2020-11-23T17:46:20.275475Z",
     "start_time": "2020-11-23T17:46:20.261795Z"
    },
    "code_folding": [
     0
    ]
   },
   "outputs": [],
   "source": [
    "def plot_sp500_with_ma_signals(df, fast_ma, slow_ma):\n",
    "    first_day = df.index[0]\n",
    "    last_day = df.index[-1]\n",
    "    \n",
    "    fmt = '%Y-%m-%d' if first_day.year == last_day.year else '%Y'\n",
    "\n",
    "    df['fast_ma'] = full_df['Close'].rolling(window=fast_ma).mean()[first_day:last_day]\n",
    "    df['slow_ma'] = full_df['Close'].rolling(window=slow_ma).mean()[first_day:last_day]\n",
    "    df['diff'] = df['fast_ma'].sub(df['slow_ma'])\n",
    "    df['long_signal'] = (df['diff'] > 0) & (df['diff'].shift(1).fillna(-1) <= 0)\n",
    "    df['exit_signal'] = (df['diff'] <= 0) & (df['diff'].shift(1) > 0)\n",
    "\n",
    "    buy_marker = df['fast_ma'] * df['long_signal'] - (df['fast_ma'].max()*.01)\n",
    "    buy_marker = buy_marker[df['long_signal']]\n",
    "    buy_dates = df.index[df['long_signal']]\n",
    "    exit_marker = df['fast_ma'] * df['exit_signal'] - (df['fast_ma'].max()*.01)\n",
    "    exit_marker = exit_marker[df['exit_signal']]\n",
    "    exit_dates = df.index[df['exit_signal']]\n",
    "\n",
    "    title = \"SP500 with MAs of {}-{} ({} : {})\".format(fast_ma, slow_ma, first_day.strftime(fmt), last_day.strftime(fmt))\n",
    "    \n",
    "    fig = plt.figure();\n",
    "    ax = df[['Close', 'fast_ma', 'slow_ma']].plot(title=title,\n",
    "                                             figsize=(14,6), \n",
    "                                             color=('k', 'r', 'y'));\n",
    "    \n",
    "    ax.scatter(buy_dates, buy_marker, marker='^', color='green', label='Buy');\n",
    "    ax.scatter(exit_dates, exit_marker, marker='>', color='blue', label='Exit');\n",
    "\n",
    "    ax.legend([\"SP500\", 'MA '+ str(fast_ma), 'MA '+ str(slow_ma)]);\n",
    "    ax.tick_params(axis='x', direction='out', length=3, labelrotation=0);\n",
    "    ax.tick_params(axis='y', direction='out', length=3);\n",
    "    plt.xticks(horizontalalignment=\"center\");"
   ]
  },
  {
   "cell_type": "code",
   "execution_count": 44,
   "metadata": {
    "ExecuteTime": {
     "end_time": "2020-11-23T17:46:20.284931Z",
     "start_time": "2020-11-23T17:46:20.281094Z"
    },
    "code_folding": []
   },
   "outputs": [],
   "source": [
    "def show_oos_plot(results_df, with_legend=False, with_signals=False):\n",
    "    show_plot(results_df, with_legend=with_legend, with_signals=with_signals)"
   ]
  },
  {
   "cell_type": "code",
   "execution_count": 45,
   "metadata": {
    "ExecuteTime": {
     "end_time": "2020-11-23T17:46:20.294627Z",
     "start_time": "2020-11-23T17:46:20.287912Z"
    },
    "code_folding": [
     1
    ]
   },
   "outputs": [],
   "source": [
    "# Plots a heatmap with data from a matrix. \n",
    "def show_heatmap(data, market_ir, plot_title, x_title, x_values, y_title, y_values):\n",
    "    # Flip matrix vertically for better visualization\n",
    "    data = np.flip(data, axis=0)\n",
    "    #data = np.nan_to_num(data, nan=market_ir)\n",
    "    fig, ax = plt.subplots(figsize=(3, 3)) #11,9\n",
    "\n",
    "    rdgn = sns.diverging_palette(h_neg=10, h_pos=130, as_cmap=True, s=80, l=50)\n",
    "#    divnorm = DivergingNorm(vmin=data.min(), vcenter=0, vmax=data.max())\n",
    "#    sns.heatmap(data, cmap=rdgn, norm=divnorm, annot=True, fmt ='.2', \n",
    "    fig = sns.heatmap(data, cmap=rdgn, annot=True, fmt =\".3f\", annot_kws={\"fontsize\":5}, \n",
    "                vmin=-2.0, center=0, vmax=2.0,\n",
    "                linecolor='black', cbar=True, ax=ax,\n",
    "                xticklabels=x_values, yticklabels=np.flip(y_values))\n",
    "    cbar = fig.collections[0].colorbar\n",
    "    cbar.ax.tick_params(labelsize=5);\n",
    "    ax.yaxis.tick_left();\n",
    "    plt.xlabel(x_title, fontsize=6);\n",
    "    plt.ylabel(y_title, fontsize=6);\n",
    "    plt.title(plot_title, fontsize=7);\n",
    "    plt.xticks(fontsize=6, rotation=0);\n",
    "    plt.yticks(fontsize=6, rotation=0);"
   ]
  },
  {
   "cell_type": "code",
   "execution_count": 46,
   "metadata": {
    "ExecuteTime": {
     "end_time": "2020-11-23T17:46:20.307364Z",
     "start_time": "2020-11-23T17:46:20.297247Z"
    },
    "code_folding": [
     1
    ]
   },
   "outputs": [],
   "source": [
    "# Plots a heatmap with data from a matrix. \n",
    "def show_both_heatmaps(data_individual, data_robust, market_ir, plot_title, x_title, x_values, y_title, y_values):\n",
    "    # Flip matrix vertically for better visualization\n",
    "    data_individual = np.flip(data_individual, axis=0)\n",
    "    data_robust = np.flip(data_robust, axis=0)\n",
    "\n",
    "    #data = np.nan_to_num(data, nan=market_ir)\n",
    "    fig, ax = plt.subplots(ncols=2, figsize=(10, 4)) #11,9\n",
    "    fig.subplots_adjust(wspace=0.2)\n",
    "    fig.suptitle(\"Information Ratio In Sample (\" + plot_title +\")\", fontsize=9)\n",
    "    ax[0].set_title(\"Individual\", fontsize=7)\n",
    "    ax[1].set_title(\"Robust IR = (Individual + neighbors.mean()) / 2\", fontsize=7)\n",
    "    \n",
    "    \n",
    "    rdgn = sns.diverging_palette(h_neg=10, h_pos=130, as_cmap=True, s=80, l=50)\n",
    "#    divnorm = DivergingNorm(vmin=data.min(), vcenter=0, vmax=data.max())\n",
    "#    sns.heatmap(data, cmap=rdgn, norm=divnorm, annot=True, fmt ='.2', \n",
    "    sns.heatmap(data_individual, cmap=rdgn, annot=True, fmt =\".3f\", annot_kws={\"fontsize\":5}, \n",
    "                vmin=-2.0, center=0, vmax=2.0,\n",
    "                linecolor='black', cbar=False, ax=ax[0],\n",
    "                xticklabels=x_values, yticklabels=np.flip(y_values))\n",
    "    fig.colorbar(ax[0].collections[0], ax=ax[0], location=\"left\", use_gridspec=False, pad=0.2)\n",
    "\n",
    "    sns.heatmap(data_robust, cmap=rdgn, annot=True, fmt =\".3f\", annot_kws={\"fontsize\":5}, \n",
    "                vmin=-2.0, center=0, vmax=2.0,\n",
    "                linecolor='black', cbar=False, ax=ax[1],\n",
    "                xticklabels=x_values, yticklabels=np.flip(y_values))\n",
    "    fig.colorbar(ax[1].collections[0], ax=ax[1], location=\"right\", use_gridspec=False, pad=0.2)\n",
    "    ax[1].yaxis.set_label_position(\"right\")\n",
    "    #ax[1].yaxis.tick_right()\n",
    "    \n",
    "    for a in ax:\n",
    "        a.collections[0].colorbar.ax.tick_params(labelsize=5)\n",
    "        a.set_xlabel(x_title, fontsize=7)\n",
    "        a.set_ylabel(y_title, fontsize=7);\n",
    "        a.tick_params(rotation=0, labelsize=6)"
   ]
  },
  {
   "cell_type": "code",
   "execution_count": 47,
   "metadata": {
    "ExecuteTime": {
     "end_time": "2020-11-23T17:46:20.312630Z",
     "start_time": "2020-11-23T17:46:20.309211Z"
    },
    "code_folding": [
     0
    ]
   },
   "outputs": [],
   "source": [
    "def add_data(data, new_data, name):\n",
    "    columns = pd.MultiIndex.from_product([[name], metrics])\n",
    "    new_df = pd.DataFrame(new_data, index=index, columns=columns)\n",
    "    concatenate = pd.concat([data, new_df], axis=1)\n",
    "\n",
    "    return concatenate"
   ]
  },
  {
   "cell_type": "code",
   "execution_count": 48,
   "metadata": {
    "ExecuteTime": {
     "end_time": "2020-11-23T17:46:20.318071Z",
     "start_time": "2020-11-23T17:46:20.315125Z"
    },
    "code_folding": [
     0
    ]
   },
   "outputs": [],
   "source": [
    "def save_report(returns, benchmark=\"SPY\"):\n",
    "#     color = 'k'\n",
    "#     plt.rcParams['text.color'] = color\n",
    "#     plt.rcParams['legend.facecolor'] = 'w'\n",
    "#     plt.rcParams['xtick.color'] = color\n",
    "#     plt.rcParams['ytick.color'] = color\n",
    "#     plt.rcParams['axes.labelcolor'] = color\n",
    "    \n",
    "    #     plt.rcParams['text.color'] = 'w'\n",
    "    #     plt.rcParams['legend.facecolor'] = '#2f3540'\n",
    "    #     plt.rcParams['xtick.color'] = 'w'\n",
    "    #     plt.rcParams['ytick.color'] = 'w'\n",
    "    #     plt.rcParams['axes.labelcolor'] = 'w'\n",
    "    qs.reports.html(returns, benchmark)"
   ]
  },
  {
   "cell_type": "markdown",
   "metadata": {},
   "source": [
    "## Performance statistics"
   ]
  },
  {
   "cell_type": "code",
   "execution_count": 49,
   "metadata": {
    "ExecuteTime": {
     "end_time": "2020-11-23T17:46:20.325341Z",
     "start_time": "2020-11-23T17:46:20.320170Z"
    },
    "code_folding": []
   },
   "outputs": [],
   "source": [
    "def print_backtest_stats(df, strat_pnl, strat_ir, market_pnl, market_ir, strat_name=\"ma_crossover\", strat_params=(0,1)):\n",
    "    first_day = df.index[0]\n",
    "    last_day = df.index[-1]\n",
    "    loc = full_df.index.get_loc(df.index[0])\n",
    "    ini_money_market = full_df.iloc[loc - 1]['Close']\n",
    "    \n",
    "    if \"ma_crossover\" in strat_name: \n",
    "        if strat_params[0] >= strat_params[1]: # fast_ma >= slow_ma\n",
    "            strat_name=\"buy_and_hold\"\n",
    "        else:\n",
    "            print(\"Strategy: ma_crossover({}-{})\".format(strat_params[0], strat_params[1]))\n",
    "            \n",
    "    if \"buy_and_hold\" in strat_name:\n",
    "        print(\"Strategy: buy_and_hold()\")\n",
    "        strat_pnl = market_pnl\n",
    "        strat_ir = market_ir\n",
    "    \n",
    "    print(\"Period: {:%Y-%m-%d} to {:%Y-%m-%d}\".format(df.index[0], df.index[-1]))\n",
    "\n",
    "    print(\"\\tOverall return of SP500: {:.2f} %. IR of SP500: {:.2f}\".format(market_pnl, market_ir))\n",
    "    print(\"\\tOverall return of strategy: {:.2f} %. IR strategy: {:.2f}\".format(strat_pnl, strat_ir))\n",
    "\n",
    "    return"
   ]
  },
  {
   "cell_type": "code",
   "execution_count": 1,
   "metadata": {
    "ExecuteTime": {
     "end_time": "2020-11-24T17:01:29.215765Z",
     "start_time": "2020-11-24T17:01:29.212342Z"
    },
    "code_folding": []
   },
   "outputs": [],
   "source": [
    "def calculate_annualized_return_compounded_new(daily_ret):\n",
    "    n = len(daily_ret) # This one excludes the first row\n",
    "\n",
    "    ARC = ((daily_ret.add(1).cumprod()[-1])**(252/n) - 1) * 100\n",
    "    \n",
    "    return ARC"
   ]
  },
  {
   "cell_type": "code",
   "execution_count": 2,
   "metadata": {
    "ExecuteTime": {
     "end_time": "2020-11-24T17:01:29.771023Z",
     "start_time": "2020-11-24T17:01:29.767849Z"
    },
    "code_folding": []
   },
   "outputs": [],
   "source": [
    "def calculate_information_ratio_new(daily_ret):\n",
    "    ARC = calculate_annualized_return_compounded_new(daily_ret)\n",
    "    aSD = calculate_annualized_st_dev_new(daily_ret)\n",
    "    \n",
    "    IR = ARC/aSD\n",
    "    \n",
    "    return np.round(IR, 4)"
   ]
  },
  {
   "cell_type": "code",
   "execution_count": 3,
   "metadata": {
    "ExecuteTime": {
     "end_time": "2020-11-24T17:01:30.262453Z",
     "start_time": "2020-11-24T17:01:30.259552Z"
    },
    "code_folding": []
   },
   "outputs": [],
   "source": [
    "def calculate_annualized_st_dev_new(daily_ret):\n",
    "    aSD = (daily_ret.std()) * (252**0.5) * 100 # Same as df_1['Strat_daily_ret'].std() * (252**0.5) * 100\n",
    "    \n",
    "    return aSD"
   ]
  },
  {
   "cell_type": "code",
   "execution_count": 8,
   "metadata": {
    "ExecuteTime": {
     "end_time": "2020-11-24T17:21:07.203215Z",
     "start_time": "2020-11-24T17:21:07.192889Z"
    },
    "code_folding": []
   },
   "outputs": [],
   "source": [
    "def calculate_performance_metrics(df, strat_name='MA Crossover'):    \n",
    "    metrics = ['AbsRet', 'ARC', 'IR', 'aSD', 'MD', 'AMD', 'MLD', 'All Risk', 'ARCMD', 'ARCAMD', 'Num Trades', 'No signal']\n",
    "    #metrics = ['AbsRet', 'ARC', 'IR', 'aSD', 'MD']\n",
    "\n",
    "    n = len(df['Market_daily_ret']) # This one excludes the first row\n",
    "    \n",
    "    # Strategy\n",
    "    AbsRet = (df['Strat_daily_ret'].add(1).cumprod().sub(1)[-1]) * 100\n",
    "    ARC = calculate_annualized_return_compounded_new(df['Strat_daily_ret'])\n",
    "    aSD = calculate_annualized_st_dev_new(df['Strat_daily_ret'])\n",
    "    IR = ARC/aSD\n",
    "    MD = abs(qs.stats.max_drawdown(df['Strat_daily_ret'])) * 100\n",
    "    AMD = abs(df['Strat_daily_ret'].groupby(by=df.index.year).apply(qs.stats.max_drawdown).mean()*100)\n",
    "    MLD = qs.stats.drawdown_details(qs.stats.to_drawdown_series(df['Strat_daily_ret']))['days'].max()/365.25\n",
    "    all_risk = aSD*MD*AMD*MLD / 10000\n",
    "    ARCMD = ARC/MD\n",
    "    ARCAMD = ARC/AMD\n",
    "    num_trades = (df['Strat_position'] != df['Strat_position'].shift()).sum() - 1 # -1 to avoid counting last day\n",
    "    no_signal = len(df[df['Strat_position'] == 0.0])\n",
    "\n",
    "    metrics_data = [[AbsRet, ARC, IR, aSD, MD, AMD, MLD, all_risk, ARCMD, ARCAMD, num_trades, no_signal]]\n",
    "    performance_metrics = pd.DataFrame(data=metrics_data, index=[strat_name], columns=metrics)\n",
    "    \n",
    "    # Buy & Hold\n",
    "    AbsRet_bh = (df['Market_daily_ret'].add(1).cumprod().sub(1)[-1]) * 100\n",
    "    ARC_bh = calculate_annualized_return_compounded_new(df['Market_daily_ret'])\n",
    "    aSD_bh = calculate_annualized_st_dev_new(df['Market_daily_ret'])\n",
    "    IR_bh = ARC_bh/aSD_bh\n",
    "    MD_bh = abs(qs.stats.max_drawdown(df['Market_daily_ret'])) * 100\n",
    "    AMD_bh = abs(df['Market_daily_ret'].groupby(by=df.index.year).apply(qs.stats.max_drawdown).mean()*100)\n",
    "    MLD_bh = qs.stats.drawdown_details(qs.stats.to_drawdown_series(df['Market_daily_ret']))['days'].max()/365.25\n",
    "    all_risk_bh = aSD_bh*MD_bh*AMD_bh*MLD_bh / 10000\n",
    "    ARCMD_bh = ARC_bh/MD_bh\n",
    "    ARCAMD_bh = ARC_bh/AMD_bh\n",
    "    num_trades_bh = 1\n",
    "    no_signal_bh = 0\n",
    "\n",
    "\n",
    "    buy_and_hold_data = [[AbsRet_bh, ARC_bh, IR_bh, aSD_bh, MD_bh, AMD_bh, MLD_bh, \n",
    "                          all_risk_bh, ARCMD_bh, ARCAMD_bh, num_trades_bh, no_signal_bh]]\n",
    "    buy_and_hold_row = pd.DataFrame(data=buy_and_hold_data, index=['Buy and Hold'], columns=metrics)\n",
    "    \n",
    "    performance_metrics = pd.concat([performance_metrics, buy_and_hold_row], axis='index')\n",
    "    \n",
    "    return performance_metrics.round(4)"
   ]
  }
 ],
 "metadata": {
  "kernelspec": {
   "display_name": "py37",
   "language": "python",
   "name": "py37"
  },
  "language_info": {
   "codemirror_mode": {
    "name": "ipython",
    "version": 3
   },
   "file_extension": ".py",
   "mimetype": "text/x-python",
   "name": "python",
   "nbconvert_exporter": "python",
   "pygments_lexer": "ipython3",
   "version": "3.7.9"
  },
  "toc": {
   "base_numbering": 1,
   "nav_menu": {},
   "number_sections": true,
   "sideBar": true,
   "skip_h1_title": false,
   "title_cell": "Table of Contents",
   "title_sidebar": "Contents",
   "toc_cell": false,
   "toc_position": {
    "height": "calc(100% - 180px)",
    "left": "10px",
    "top": "150px",
    "width": "320px"
   },
   "toc_section_display": true,
   "toc_window_display": false
  },
  "varInspector": {
   "cols": {
    "lenName": "8",
    "lenType": 16,
    "lenVar": 40
   },
   "kernels_config": {
    "python": {
     "delete_cmd_postfix": "",
     "delete_cmd_prefix": "del ",
     "library": "var_list.py",
     "varRefreshCmd": "print(var_dic_list())"
    },
    "r": {
     "delete_cmd_postfix": ") ",
     "delete_cmd_prefix": "rm(",
     "library": "var_list.r",
     "varRefreshCmd": "cat(var_dic_list()) "
    }
   },
   "types_to_exclude": [
    "module",
    "function",
    "builtin_function_or_method",
    "instance",
    "_Feature"
   ],
   "window_display": false
  }
 },
 "nbformat": 4,
 "nbformat_minor": 4
}
