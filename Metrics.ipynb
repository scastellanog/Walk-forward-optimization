{
 "cells": [
  {
   "cell_type": "markdown",
   "metadata": {},
   "source": [
    "## Imports"
   ]
  },
  {
   "cell_type": "code",
   "execution_count": 1,
   "metadata": {
    "ExecuteTime": {
     "end_time": "2020-12-29T12:40:56.272156Z",
     "start_time": "2020-12-29T12:40:56.269676Z"
    }
   },
   "outputs": [],
   "source": [
    "# #Delete me\n",
    "# # Settings for notebook visualization\n",
    "# from IPython.core.interactiveshell import InteractiveShell\n",
    "# InteractiveShell.ast_node_interactivity = 'all'\n",
    "# %matplotlib inline\n",
    "# from IPython.core.display import HTML\n",
    "# HTML(\"\"\"<style>.output_png img {display: block;margin-left: auto;margin-right: auto;text-align: center;vertical-align: middle;} </style>\"\"\")"
   ]
  },
  {
   "cell_type": "code",
   "execution_count": 2,
   "metadata": {
    "ExecuteTime": {
     "end_time": "2020-12-29T12:40:57.164348Z",
     "start_time": "2020-12-29T12:40:56.274514Z"
    },
    "code_folding": []
   },
   "outputs": [],
   "source": [
    "# Necessary imports\n",
    "#import yfinance as yf\n",
    "import numpy as np\n",
    "import pandas as pd\n",
    "\n",
    "import quantstats as qs\n",
    "#import statistics as st\n",
    "import os\n",
    "#from datetime import datetime, timedelta"
   ]
  },
  {
   "cell_type": "code",
   "execution_count": 3,
   "metadata": {
    "ExecuteTime": {
     "end_time": "2020-12-29T12:40:57.170733Z",
     "start_time": "2020-12-29T12:40:57.167464Z"
    },
    "code_folding": []
   },
   "outputs": [],
   "source": [
    "# Other settings\n",
    "qs.extend_pandas()\n",
    "\n",
    "np.set_printoptions(edgeitems=40, linewidth=1000)\n",
    "\n",
    "pd.set_option(\"display.precision\", 6)\n",
    "pd.set_option('display.max_columns', 500)\n",
    "pd.set_option('display.width', 1000)"
   ]
  },
  {
   "cell_type": "code",
   "execution_count": 4,
   "metadata": {
    "ExecuteTime": {
     "end_time": "2020-12-29T12:40:57.177762Z",
     "start_time": "2020-12-29T12:40:57.175071Z"
    }
   },
   "outputs": [],
   "source": [
    "os.chdir(\"/Users/Sergio/Documents/Master_QF/Thesis/Code/Algorithmic Strategies/\")"
   ]
  },
  {
   "cell_type": "markdown",
   "metadata": {},
   "source": [
    "## Data"
   ]
  },
  {
   "cell_type": "code",
   "execution_count": 5,
   "metadata": {
    "ExecuteTime": {
     "end_time": "2020-12-29T12:40:57.181844Z",
     "start_time": "2020-12-29T12:40:57.179602Z"
    }
   },
   "outputs": [],
   "source": [
    "# ini_equity_default = 100\n",
    "# commision_default = 0.000111538462 # 2/130000 + 12.5/130000\n",
    "# #commision_default = 0.0005 # Slightly Bbgger commision, for better visualization\n",
    "# # 0.01 = 1% of the cummulative return (equity)"
   ]
  },
  {
   "cell_type": "code",
   "execution_count": 6,
   "metadata": {
    "ExecuteTime": {
     "end_time": "2020-12-29T12:40:57.187298Z",
     "start_time": "2020-12-29T12:40:57.185241Z"
    },
    "code_folding": []
   },
   "outputs": [],
   "source": [
    "# # Load DF with SP500 data\n",
    "# def get_sp500_data(start_date=\"1928-01-01\", from_local_file=True, save_to_file=False):\n",
    "#     if from_local_file == True:\n",
    "#         data = pd.read_pickle('data/SP500_hist_data.pkl')\n",
    "#     else:\n",
    "#         # Download data from yfinance\n",
    "#         data = yf.download(\"^GSPC\", auto_adjust=True, start=start_date)\n",
    "#         if save_to_file == True:\n",
    "#             data.to_pickle(\"data/SP500_hist_data.pkl\")\n",
    "#     return data"
   ]
  },
  {
   "cell_type": "code",
   "execution_count": 7,
   "metadata": {
    "ExecuteTime": {
     "end_time": "2020-12-29T12:40:57.192259Z",
     "start_time": "2020-12-29T12:40:57.190357Z"
    }
   },
   "outputs": [],
   "source": [
    "# full_df = get_sp500_data()\n",
    "# full_df['Market_daily_ret'] = full_df['Close'].pct_change().fillna((full_df['Close']-full_df['Open'])/full_df['Open'])\n",
    "# full_df = full_df[['Close', 'Open', 'Market_daily_ret']]"
   ]
  },
  {
   "cell_type": "markdown",
   "metadata": {},
   "source": [
    "## Performance statistics"
   ]
  },
  {
   "cell_type": "code",
   "execution_count": 8,
   "metadata": {
    "ExecuteTime": {
     "end_time": "2020-12-29T12:40:57.199985Z",
     "start_time": "2020-12-29T12:40:57.193983Z"
    },
    "code_folding": []
   },
   "outputs": [],
   "source": [
    "import calendar\n",
    "\n",
    "def print_backtest_stats(df, strat_pnl, strat_ir, market_pnl, market_ir, strat_name=\"ma_crossover\", strat_params=(0,1)):\n",
    "    first_day = df.index[0]\n",
    "    last_day = df.index[-1]\n",
    "    loc = full_df.index.get_loc(df.index[0])\n",
    "    ini_money_market = full_df.iloc[loc - 1]['Close']\n",
    "    \n",
    "    if \"ma_crossover\" in strat_name: \n",
    "        if strat_params[0] >= strat_params[1]: # fast_ma >= slow_ma\n",
    "            strat_name=\"buy_and_hold\"\n",
    "        else:\n",
    "            print(\"Strategy: ma_crossover({}-{})\".format(strat_params[0], strat_params[1]))\n",
    "    \n",
    "    elif \"sell_in_may\" in strat_name:\n",
    "        month_sell = calendar.month_name[strat_params[0]] # calendar.month_abbr\n",
    "        month_buy = calendar.month_name[strat_params[1]]\n",
    "        print(f'Strategy: sell_in_may_and_go_away(short {month_sell} - long {month_buy})')\n",
    "            \n",
    "    if \"buy_and_hold\" in strat_name:\n",
    "        print(\"Strategy: buy_and_hold()\")\n",
    "        strat_pnl = market_pnl\n",
    "        strat_ir = market_ir\n",
    "    \n",
    "    print(\"Period: {:%Y-%m-%d} to {:%Y-%m-%d}\".format(df.index[0], df.index[-1]))\n",
    "\n",
    "    print(\"\\tOverall return of SP500: {:+.2f} %. IR of SP500: {:.2f}\".format(market_pnl, market_ir))\n",
    "    print(\"\\tOverall return of strategy: {:+.2f} %. IR strategy: {:.2f}\".format(strat_pnl, strat_ir))\n",
    "\n",
    "    return"
   ]
  },
  {
   "cell_type": "code",
   "execution_count": 9,
   "metadata": {
    "ExecuteTime": {
     "end_time": "2020-12-29T12:40:57.204897Z",
     "start_time": "2020-12-29T12:40:57.201740Z"
    },
    "code_folding": []
   },
   "outputs": [],
   "source": [
    "def calculate_annualized_return_compounded(daily_ret):\n",
    "    n = len(daily_ret) # This one excludes the first row\n",
    "\n",
    "    ARC = ((daily_ret.add(1).cumprod()[-1])**(252/n) - 1) * 100\n",
    "    \n",
    "    return ARC"
   ]
  },
  {
   "cell_type": "code",
   "execution_count": 10,
   "metadata": {
    "ExecuteTime": {
     "end_time": "2020-12-29T12:40:57.209465Z",
     "start_time": "2020-12-29T12:40:57.206413Z"
    },
    "code_folding": []
   },
   "outputs": [],
   "source": [
    "def calculate_information_ratio(daily_ret):\n",
    "    ARC = calculate_annualized_return_compounded(daily_ret)\n",
    "    aSD = calculate_annualized_st_dev(daily_ret)\n",
    "    \n",
    "    if aSD == 0:\n",
    "        return 0.00\n",
    "    \n",
    "    IR = ARC/aSD\n",
    "    \n",
    "    return np.round(IR, 4)"
   ]
  },
  {
   "cell_type": "code",
   "execution_count": 11,
   "metadata": {
    "ExecuteTime": {
     "end_time": "2020-12-29T12:40:57.213910Z",
     "start_time": "2020-12-29T12:40:57.211248Z"
    },
    "code_folding": []
   },
   "outputs": [],
   "source": [
    "def calculate_annualized_st_dev(daily_ret):\n",
    "    aSD = (daily_ret.std()) * (252**0.5) * 100 # Same as df_1['Strat_daily_ret'].std() * (252**0.5) * 100\n",
    "    \n",
    "    return aSD"
   ]
  },
  {
   "cell_type": "code",
   "execution_count": 17,
   "metadata": {
    "ExecuteTime": {
     "end_time": "2020-12-30T14:00:35.149331Z",
     "start_time": "2020-12-30T14:00:35.135051Z"
    },
    "code_folding": []
   },
   "outputs": [],
   "source": [
    "def calculate_performance_metrics(df, strat_name='MA Crossover'):    \n",
    "    metrics = ['AbsRet', 'ARC', 'IR', 'aSD', 'MD', 'AMD', 'MLD', 'IR**', 'All Risk', 'ARCMD', 'ARCAMD', 'Num Trades', 'Out of market']\n",
    "    #metrics = ['AbsRet', 'ARC', 'IR', 'aSD', 'MD']\n",
    "\n",
    "    n = len(df['Market_daily_ret']) # This one excludes the first row\n",
    "    \n",
    "    # Strategy\n",
    "    AbsRet = (df['Strat_daily_ret'].add(1).cumprod().sub(1)[-1]) * 100\n",
    "    ARC = calculate_annualized_return_compounded(df['Strat_daily_ret'])\n",
    "    aSD = calculate_annualized_st_dev(df['Strat_daily_ret'])\n",
    "    IR = ARC/aSD\n",
    "    MD = abs(qs.stats.max_drawdown(df['Strat_daily_ret'])) * 100\n",
    "    AMD = abs(df['Strat_daily_ret'].groupby(by=df.index.year).apply(qs.stats.max_drawdown).mean()*100)\n",
    "    MLD = qs.stats.drawdown_details(qs.stats.to_drawdown_series(df['Strat_daily_ret']))['days'].max()/365.25\n",
    "    IR_2 = (ARC*ARC)/(aSD*MD)\n",
    "    all_risk = aSD*MD*AMD*MLD / 10000\n",
    "    ARCMD = ARC/MD\n",
    "    ARCAMD = ARC/AMD\n",
    "    num_trades = int(df['Strat_position'].sub(df['Strat_position'].shift(fill_value=0)).abs().sum().round())\n",
    "    no_signal = len(df[df['Strat_position'] == 0.0])\n",
    "\n",
    "    \n",
    "    metrics_data = [[AbsRet, ARC, IR, aSD, MD, AMD, MLD, IR_2, all_risk, ARCMD, ARCAMD, num_trades, no_signal]]\n",
    "    performance_metrics = pd.DataFrame(data=metrics_data, index=[strat_name], columns=metrics)\n",
    "    \n",
    "    # Buy & Hold\n",
    "    AbsRet_bh = (df['Market_daily_ret'].add(1).cumprod().sub(1)[-1]) * 100\n",
    "    ARC_bh = calculate_annualized_return_compounded(df['Market_daily_ret'])\n",
    "    aSD_bh = calculate_annualized_st_dev(df['Market_daily_ret'])\n",
    "    IR_bh = ARC_bh/aSD_bh\n",
    "    MD_bh = abs(qs.stats.max_drawdown(df['Market_daily_ret'])) * 100\n",
    "    AMD_bh = abs(df['Market_daily_ret'].groupby(by=df.index.year).apply(qs.stats.max_drawdown).mean()*100)\n",
    "    MLD_bh = qs.stats.drawdown_details(qs.stats.to_drawdown_series(df['Market_daily_ret']))['days'].max()/365.25\n",
    "    IR_2_bh = (ARC_bh*ARC_bh)/(aSD_bh*MD_bh)\n",
    "    all_risk_bh = aSD_bh*MD_bh*AMD_bh*MLD_bh / 10000\n",
    "    ARCMD_bh = ARC_bh/MD_bh\n",
    "    ARCAMD_bh = ARC_bh/AMD_bh\n",
    "    num_trades_bh = 1\n",
    "    no_signal_bh = 0\n",
    "\n",
    "\n",
    "    buy_and_hold_data = [[AbsRet_bh, ARC_bh, IR_bh, aSD_bh, MD_bh, AMD_bh, MLD_bh, IR_2_bh,\n",
    "                          all_risk_bh, ARCMD_bh, ARCAMD_bh, num_trades_bh, no_signal_bh]]\n",
    "    buy_and_hold_row = pd.DataFrame(data=buy_and_hold_data, index=['Buy and Hold'], columns=metrics)\n",
    "    \n",
    "    performance_metrics = pd.concat([performance_metrics, buy_and_hold_row], axis='index')\n",
    "    \n",
    "    return performance_metrics.round(4)"
   ]
  }
 ],
 "metadata": {
  "kernelspec": {
   "display_name": "py37",
   "language": "python",
   "name": "py37"
  },
  "language_info": {
   "codemirror_mode": {
    "name": "ipython",
    "version": 3
   },
   "file_extension": ".py",
   "mimetype": "text/x-python",
   "name": "python",
   "nbconvert_exporter": "python",
   "pygments_lexer": "ipython3",
   "version": "3.7.9"
  },
  "toc": {
   "base_numbering": 1,
   "nav_menu": {},
   "number_sections": true,
   "sideBar": true,
   "skip_h1_title": false,
   "title_cell": "Table of Contents",
   "title_sidebar": "Contents",
   "toc_cell": false,
   "toc_position": {
    "height": "calc(100% - 180px)",
    "left": "10px",
    "top": "150px",
    "width": "320px"
   },
   "toc_section_display": true,
   "toc_window_display": false
  },
  "varInspector": {
   "cols": {
    "lenName": "8",
    "lenType": 16,
    "lenVar": 40
   },
   "kernels_config": {
    "python": {
     "delete_cmd_postfix": "",
     "delete_cmd_prefix": "del ",
     "library": "var_list.py",
     "varRefreshCmd": "print(var_dic_list())"
    },
    "r": {
     "delete_cmd_postfix": ") ",
     "delete_cmd_prefix": "rm(",
     "library": "var_list.r",
     "varRefreshCmd": "cat(var_dic_list()) "
    }
   },
   "types_to_exclude": [
    "module",
    "function",
    "builtin_function_or_method",
    "instance",
    "_Feature"
   ],
   "window_display": false
  }
 },
 "nbformat": 4,
 "nbformat_minor": 4
}
