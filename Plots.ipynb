{
 "cells": [
  {
   "cell_type": "markdown",
   "metadata": {},
   "source": [
    "## Imports"
   ]
  },
  {
   "cell_type": "code",
   "execution_count": 1,
   "metadata": {
    "ExecuteTime": {
     "end_time": "2020-12-29T12:54:15.504178Z",
     "start_time": "2020-12-29T12:54:15.098177Z"
    }
   },
   "outputs": [
    {
     "data": {
      "text/html": [
       "<style>.output_png img {display: block;margin-left: auto;margin-right: auto;text-align: center;vertical-align: middle;} </style>"
      ],
      "text/plain": [
       "<IPython.core.display.HTML object>"
      ]
     },
     "execution_count": 1,
     "metadata": {},
     "output_type": "execute_result"
    }
   ],
   "source": [
    "#Delete me\n",
    "# Settings for notebook visualization\n",
    "from IPython.core.interactiveshell import InteractiveShell\n",
    "InteractiveShell.ast_node_interactivity = 'all'\n",
    "%matplotlib inline\n",
    "from IPython.core.display import HTML\n",
    "HTML(\"\"\"<style>.output_png img {display: block;margin-left: auto;margin-right: auto;text-align: center;vertical-align: middle;} </style>\"\"\")"
   ]
  },
  {
   "cell_type": "code",
   "execution_count": 2,
   "metadata": {
    "ExecuteTime": {
     "end_time": "2020-12-29T12:54:16.084888Z",
     "start_time": "2020-12-29T12:54:15.506296Z"
    },
    "code_folding": []
   },
   "outputs": [],
   "source": [
    "# Necessary imports\n",
    "import os\n",
    "from datetime import datetime, timedelta\n",
    "import numpy as np\n",
    "import pandas as pd\n",
    "import matplotlib.pyplot as plt\n",
    "from matplotlib.colors import DivergingNorm\n",
    "import seaborn as sns\n",
    "#import quantstats as qs\n",
    "#import statistics as st"
   ]
  },
  {
   "cell_type": "code",
   "execution_count": 3,
   "metadata": {
    "ExecuteTime": {
     "end_time": "2020-12-29T12:54:16.099957Z",
     "start_time": "2020-12-29T12:54:16.092197Z"
    },
    "code_folding": []
   },
   "outputs": [],
   "source": [
    "# # Other settings\n",
    "\n",
    "# # Settings for plot visualization\n",
    "# plt.style.use('seaborn-darkgrid')\n",
    "\n",
    "# #plt.rcParams.keys()\n",
    "# plt.rcParams['figure.dpi'] = 200\n",
    "# plt.rcParams[\"figure.figsize\"] = (12,3.5) #(12,5)\n",
    "# plt.rcParams['axes.grid'] = True\n",
    "# plt.rcParams['grid.linewidth'] = 0.4\n",
    "# #plt.rcParams['xtick.label.allignment'] = 'center'\n",
    "\n",
    "# plt.rcParams['xtick.bottom'] = plt.rcParams['ytick.labelright'] = True\n",
    "# plt.rcParams['ytick.left'] = plt.rcParams['ytick.right'] = True\n",
    "\n",
    "# plt.rcParams['lines.linewidth'] = 1.2\n",
    "# #plt.rcParams['lines.markersize'] = 0.5\n",
    "# plt.rcParams['patch.edgecolor'] = 'k' # Legend border \n",
    "# plt.rcParams['legend.facecolor'] = 'w'\n",
    "# plt.rcParams[\"legend.frameon\"] = True\n",
    "\n",
    "# np.set_printoptions(edgeitems=40, linewidth=1000)\n",
    "\n",
    "# pd.set_option(\"display.precision\", 6)\n",
    "# pd.set_option('display.max_columns', 500)\n",
    "# pd.set_option('display.width', 1000)\n",
    "# #print(\"Notebook parameters set correctly\")"
   ]
  },
  {
   "cell_type": "code",
   "execution_count": 4,
   "metadata": {
    "ExecuteTime": {
     "end_time": "2020-12-29T12:54:16.104534Z",
     "start_time": "2020-12-29T12:54:16.101664Z"
    }
   },
   "outputs": [],
   "source": [
    "os.chdir(\"/Users/Sergio/Documents/Master_QF/Thesis/Code/Algorithmic Strategies/\")"
   ]
  },
  {
   "cell_type": "code",
   "execution_count": 5,
   "metadata": {
    "ExecuteTime": {
     "end_time": "2020-12-29T12:54:16.112181Z",
     "start_time": "2020-12-29T12:54:16.107662Z"
    }
   },
   "outputs": [],
   "source": [
    "# ini_equity_default = 100\n",
    "# commision_default = 0.000111538462 # 2/130000 + 12.5/130000\n",
    "# #commision_default = 0.0005 # Slightly Bbgger commision, for better visualization\n",
    "# # 0.01 = 1% of the cummulative return (equity)"
   ]
  },
  {
   "cell_type": "markdown",
   "metadata": {},
   "source": [
    "## Plots"
   ]
  },
  {
   "cell_type": "code",
   "execution_count": 6,
   "metadata": {
    "ExecuteTime": {
     "end_time": "2020-12-29T12:54:16.139866Z",
     "start_time": "2020-12-29T12:54:16.116413Z"
    },
    "code_folding": [
     0
    ]
   },
   "outputs": [],
   "source": [
    "def show_plot(df, benchmark=True, position=True, figsize=(12,3.6), with_legend=False, with_signals=False): #(12,5)\n",
    "    df_plot = df.copy()\n",
    "    first_day = df_plot.index[0]\n",
    "    last_day = df_plot.index[-1]\n",
    "    \n",
    "    fmt = '%Y-%m-%d' if first_day.year == last_day.year else '%Y'\n",
    "        \n",
    "    columns_colors_ax1 = [('Strat_cum_ret', 'b')]\n",
    "    \n",
    "    title = 'MA crossover strategy ({} : {})'.format(first_day.strftime(fmt), last_day.strftime(fmt))\n",
    "\n",
    "    if (benchmark == True):\n",
    "        title = 'SP500 vs ' + title\n",
    "        columns_colors_ax1.append(('Market_cum_ret', 'k'))\n",
    "\n",
    "    # PLOT\n",
    "    if position == True:\n",
    "        import matplotlib.dates as mdates\n",
    "        \n",
    "        fig, ax1 = plt.subplots(figsize=figsize)\n",
    "        ax2 = ax1.twinx()\n",
    "\n",
    "        [ax1.plot(df_plot.index, df_plot[column], label=column, color=color) for (column, color) in columns_colors_ax1[::-1]]\n",
    "        \n",
    "        columns_label_colors_ax2 = [('Strat_position', 'Strategy position', 'r')]\n",
    "        columns_label_colors_ax2 = [('Long_only', 'Only long position allowed', 'tab:brown'), ('Strat_position', 'Strategy position', 'g')]\n",
    "        df_plot['Long_only'] = df_plot['Long_only'] - 0.03\n",
    "        \n",
    "        [ax2.scatter(df_plot.index, df_plot[column], marker='s', s=1, label=lab, color=color) for (column, lab, color) in columns_label_colors_ax2]            \n",
    "        ax2.set(ylabel='Strategy Position', yticks=np.arange(-1.0,1.01,1))\n",
    "        ax2.set_ylim([-1.1,1.1])\n",
    "        ax2.tick_params(axis='y', direction='out', length=5)\n",
    "        \n",
    "        ax2.grid(False)\n",
    "        \n",
    "        handles, labels = ax2.get_legend_handles_labels()\n",
    "        if with_legend == True:\n",
    "            ax2.legend(handles[::-1], labels[::-1], loc='upper left', bbox_to_anchor=(0.55, -0.08), borderpad=0.5, markerscale=3) #borderpad=1\n",
    "        \n",
    "    else:\n",
    "        [ax1.plot(df_plot.index, df_plot[column], label=column, color=color) for (column, color) in columns_colors_ax1[::-1]]\n",
    "\n",
    "    from matplotlib import ticker\n",
    "    \n",
    "    # X-AXES\n",
    "    # Write a max of 20 major locators in x axis\n",
    "    n_years = last_day.year - first_day.year\n",
    "    freq = 1 if (n_years <= 20) else 5\n",
    "    years = mdates.YearLocator(freq)       \n",
    "    yearFmt = mdates.DateFormatter('%Y')\n",
    "    # Add the locators to the axis\n",
    "    ax1.xaxis.set_major_locator(years)\n",
    "    ax1.xaxis.set_major_formatter(yearFmt) # Add tick with every freq years\n",
    "    ax1.xaxis.set_minor_locator(mdates.YearLocator(1)) # every year\n",
    "    ax1.tick_params(axis='x', direction='out', which='major', length=4)\n",
    "    ax1.tick_params(axis='x', direction='out', which='minor', length=2)  \n",
    "    \n",
    "    loc = full_df.index.get_loc(first_day)\n",
    "    first_tick = full_df.index.values[loc-1]\n",
    "    loc = full_df.index.get_loc(last_day)\n",
    "    loc = loc if (loc == full_df.index.size - 1) else loc + 1 # Necessary to add one day checking for index size\n",
    "    last_tick = full_df.index.values[loc]\n",
    "    ax1.set_xlim([first_tick, last_tick])\n",
    "    \n",
    "    # Y-AXES\n",
    "    ax1.set(ylabel='Value (USD)', title=title)\n",
    "    ax1.tick_params(axis='y', direction='out', length=4)\n",
    "    #ax1.yaxis.set_minor_locator(ticker.MultipleLocator(250))\n",
    "    #ax1.tick_params(axis='y', direction='out', which='minor', length=2)\n",
    "    \n",
    "    # LEGEND\n",
    "    if with_legend == True:\n",
    "        # Put a legend below current axis, reversing the printing order and incresing linewidth\n",
    "        handles, labels = ax1.get_legend_handles_labels()\n",
    "        repl = {'Strat_cum_ret':'Strategy', 'Market_cum_ret':'Benchmark', 'Strat_position':'Strategy position'}\n",
    "        repl = {'Strat_cum_ret':'Strategy', 'Market_cum_ret':'Benchmark', 'Long_only':'Only long position allowed', 'Strat_position':'Strategy position'}\n",
    "        labels = [repl.get(n, n) for n in labels]\n",
    "        leg1 = ax1.legend(handles[::-1], labels[::-1], loc='upper right', bbox_to_anchor=(0.45, -0.08), borderpad=0.5)\n",
    "        [legobj.set_linewidth(3) for legobj in leg1.legendHandles]\n",
    "    \n",
    "    if with_signals == True:\n",
    "        buy_signal = df_plot['Strat_position'].shift(periods=-1) > df_plot['Strat_position']\n",
    "        buy_marker = df_plot['Market_cum_ret']\n",
    "        buy_marker = buy_marker[buy_signal]\n",
    "        buy_dates = df_plot.index[buy_signal]\n",
    "        sell_signal = df_plot['Strat_position'].shift(periods=-1) < df_plot['Strat_position']\n",
    "        sell_marker = df_plot['Market_cum_ret']\n",
    "        sell_marker = sell_marker[sell_signal]\n",
    "        sell_dates = df_plot.index[sell_signal]\n",
    "        ax1.scatter(buy_dates, buy_marker, marker='^', color='green', label='Buy');\n",
    "        ax1.scatter(sell_dates, sell_marker, marker='>', color='red', label='Exit');\n",
    "\n",
    "    # \n",
    "    ax1.set_zorder(1)\n",
    "    ax1.patch.set_visible(False)\n",
    "    ax2.set_zorder(0)\n",
    "    ax2.patch.set_visible(True)"
   ]
  },
  {
   "cell_type": "code",
   "execution_count": 7,
   "metadata": {
    "ExecuteTime": {
     "end_time": "2020-12-29T12:54:16.161959Z",
     "start_time": "2020-12-29T12:54:16.144466Z"
    },
    "code_folding": [
     0
    ]
   },
   "outputs": [],
   "source": [
    "def plot_sp500_with_ma_signals(df, fast_ma, slow_ma):\n",
    "    first_day = df.index[0]\n",
    "    last_day = df.index[-1]\n",
    "    \n",
    "    fmt = '%Y-%m-%d' if first_day.year == last_day.year else '%Y'\n",
    "\n",
    "    df['fast_ma'] = full_df['Close'].rolling(window=fast_ma).mean()[first_day:last_day]\n",
    "    df['slow_ma'] = full_df['Close'].rolling(window=slow_ma).mean()[first_day:last_day]\n",
    "    df['diff'] = df['fast_ma'].sub(df['slow_ma'])\n",
    "    df['long_signal'] = (df['diff'] > 0) & (df['diff'].shift(1).fillna(-1) <= 0)\n",
    "    df['exit_signal'] = (df['diff'] <= 0) & (df['diff'].shift(1) > 0)\n",
    "\n",
    "    buy_marker = df['fast_ma'] * df['long_signal'] - (df['fast_ma'].max()*.01)\n",
    "    buy_marker = buy_marker[df['long_signal']]\n",
    "    buy_dates = df.index[df['long_signal']]\n",
    "    exit_marker = df['fast_ma'] * df['exit_signal'] - (df['fast_ma'].max()*.01)\n",
    "    exit_marker = exit_marker[df['exit_signal']]\n",
    "    exit_dates = df.index[df['exit_signal']]\n",
    "\n",
    "    title = \"SP500 with MAs of {}-{} ({} : {})\".format(fast_ma, slow_ma, first_day.strftime(fmt), last_day.strftime(fmt))\n",
    "    \n",
    "    fig = plt.figure();\n",
    "    ax = df[['Close', 'fast_ma', 'slow_ma']].plot(title=title,\n",
    "                                             figsize=(14,6), \n",
    "                                             color=('k', 'r', 'y'));\n",
    "    \n",
    "    ax.scatter(buy_dates, buy_marker, marker='^', color='green', label='Buy');\n",
    "    ax.scatter(exit_dates, exit_marker, marker='>', color='blue', label='Exit');\n",
    "\n",
    "    ax.legend([\"SP500\", 'MA '+ str(fast_ma), 'MA '+ str(slow_ma)]);\n",
    "    ax.tick_params(axis='x', direction='out', length=3, labelrotation=0);\n",
    "    ax.tick_params(axis='y', direction='out', length=3);\n",
    "    plt.xticks(horizontalalignment=\"center\");"
   ]
  },
  {
   "cell_type": "code",
   "execution_count": 8,
   "metadata": {
    "ExecuteTime": {
     "end_time": "2020-12-29T12:54:16.173273Z",
     "start_time": "2020-12-29T12:54:16.168814Z"
    },
    "code_folding": []
   },
   "outputs": [],
   "source": [
    "def show_oos_plot(results_df, with_legend=False, with_signals=False):\n",
    "    show_plot(results_df, with_legend=with_legend, with_signals=with_signals)"
   ]
  },
  {
   "cell_type": "code",
   "execution_count": 9,
   "metadata": {
    "ExecuteTime": {
     "end_time": "2020-12-29T12:54:16.184232Z",
     "start_time": "2020-12-29T12:54:16.175771Z"
    },
    "code_folding": [
     1
    ]
   },
   "outputs": [],
   "source": [
    "# Plots a heatmap with data from a matrix. \n",
    "def show_heatmap(data, market_ir, plot_title, x_title, x_values, y_title, y_values):\n",
    "    # Flip matrix vertically for better visualization\n",
    "    data = np.flip(data, axis=0)\n",
    "    #data = np.nan_to_num(data, nan=market_ir)\n",
    "    fig, ax = plt.subplots(figsize=(3, 3)) #11,9\n",
    "\n",
    "    rdgn = sns.diverging_palette(h_neg=10, h_pos=130, as_cmap=True, s=80, l=50)\n",
    "#    divnorm = DivergingNorm(vmin=data.min(), vcenter=0, vmax=data.max())\n",
    "#    sns.heatmap(data, cmap=rdgn, norm=divnorm, annot=True, fmt ='.2', \n",
    "    fig = sns.heatmap(data, cmap=rdgn, annot=True, fmt =\".3f\", annot_kws={\"fontsize\":5}, \n",
    "                vmin=-2.0, center=0, vmax=2.0,\n",
    "                linecolor='black', cbar=True, ax=ax,\n",
    "                xticklabels=x_values, yticklabels=np.flip(y_values))\n",
    "    cbar = fig.collections[0].colorbar\n",
    "    cbar.ax.tick_params(labelsize=5);\n",
    "    ax.yaxis.tick_left();\n",
    "    plt.xlabel(x_title, fontsize=6);\n",
    "    plt.ylabel(y_title, fontsize=6);\n",
    "    plt.title(plot_title, fontsize=7);\n",
    "    plt.xticks(fontsize=6, rotation=0);\n",
    "    plt.yticks(fontsize=6, rotation=0);"
   ]
  },
  {
   "cell_type": "code",
   "execution_count": 22,
   "metadata": {
    "ExecuteTime": {
     "end_time": "2020-12-31T00:58:08.180556Z",
     "start_time": "2020-12-31T00:58:08.170129Z"
    },
    "code_folding": []
   },
   "outputs": [],
   "source": [
    "# Plots a heatmap with data from a matrix. \n",
    "def show_both_heatmaps(data_robust, data_hist, market_ir, plot_title, left_plot_title, right_plot_title, \n",
    "                           x_title, x_values, y_title, y_values):\n",
    "    # Flip matrix vertically for better visualization\n",
    "    data_robust = np.flip(data_robust, axis=0)\n",
    "    data_hist = np.flip(data_hist, axis=0)\n",
    "\n",
    "#     data_robust = np.multiply(np.flip(data_robust, axis=0), 100)\n",
    "#     data_hist = np.multiply(np.flip(data_hist, axis=0), 100)\n",
    "\n",
    "    #data = np.nan_to_num(data, nan=market_ir)\n",
    "    fig, ax = plt.subplots(ncols=2, figsize=(11, 4.5)) #11,9\n",
    "    fig.subplots_adjust(wspace=0.2)\n",
    "    fig.suptitle(\"Information Ratio In Sample (\" + plot_title +\")\", fontsize=9)\n",
    "    ax[0].set_title(left_plot_title, fontsize=7)\n",
    "    ax[1].set_title(right_plot_title, fontsize=7)\n",
    "    \n",
    "    rdgn = sns.diverging_palette(h_neg=10, h_pos=130, as_cmap=True, s=80, l=50)\n",
    "    \n",
    "    smallest = 0 if data_robust.min() > 0 else data_robust.min()\n",
    "    #middle = market_ir if market_ir != np.nan else 0 #market_ir\n",
    "    middle = data_robust[0,0] #market_ir\n",
    "\n",
    "    largest = data_robust.max()\n",
    "    sns.heatmap(data_robust, cmap=rdgn, annot=True, fmt =\".2f\", annot_kws={\"fontsize\":5}, \n",
    "                vmin=smallest, center=middle, vmax=largest,\n",
    "                linecolor='black', cbar=False, ax=ax[0],\n",
    "                xticklabels=x_values, yticklabels=np.flip(y_values))\n",
    "    fig.colorbar(ax[0].collections[0], ax=ax[0], location=\"left\", use_gridspec=False, pad=0.1)\n",
    "\n",
    "    smallest = 0 if data_hist.min() > 0 else data_hist.min()\n",
    "    middle = data_hist[0,0] #market_ir\n",
    "    largest = data_hist.max()\n",
    "    sns.heatmap(data_hist, cmap=rdgn, annot=True, fmt =\".2f\", annot_kws={\"fontsize\":5}, \n",
    "                vmin=smallest, center= middle, vmax=largest,\n",
    "                linecolor='black', cbar=False, ax=ax[1],\n",
    "                xticklabels=x_values, yticklabels=np.flip(y_values))\n",
    "    fig.colorbar(ax[1].collections[0], ax=ax[1], location=\"right\", use_gridspec=False, pad=0.1)\n",
    "    ax[1].yaxis.set_label_position(\"right\")\n",
    "    #ax[1].yaxis.tick_right()\n",
    "    \n",
    "    for a in ax:\n",
    "        a.collections[0].colorbar.ax.tick_params(labelsize=5)\n",
    "        a.set_xlabel(x_title, fontsize=7)\n",
    "        a.set_ylabel(y_title, fontsize=7);\n",
    "        a.tick_params(rotation=0, labelsize=6)\n",
    "    "
   ]
  },
  {
   "cell_type": "code",
   "execution_count": 12,
   "metadata": {
    "ExecuteTime": {
     "end_time": "2020-12-29T12:54:16.222222Z",
     "start_time": "2020-12-29T12:54:16.217348Z"
    },
    "code_folding": [
     0
    ]
   },
   "outputs": [],
   "source": [
    "def add_data(data, new_data, name):\n",
    "    columns = pd.MultiIndex.from_product([[name], metrics])\n",
    "    new_df = pd.DataFrame(new_data, index=index, columns=columns)\n",
    "    concatenate = pd.concat([data, new_df], axis=1)\n",
    "\n",
    "    return concatenate"
   ]
  },
  {
   "cell_type": "code",
   "execution_count": 13,
   "metadata": {
    "ExecuteTime": {
     "end_time": "2020-12-29T12:54:16.227706Z",
     "start_time": "2020-12-29T12:54:16.224942Z"
    },
    "code_folding": [
     0
    ]
   },
   "outputs": [],
   "source": [
    "def save_report(returns, benchmark=\"SPY\"):\n",
    "#     color = 'k'\n",
    "#     plt.rcParams['text.color'] = color\n",
    "#     plt.rcParams['legend.facecolor'] = 'w'\n",
    "#     plt.rcParams['xtick.color'] = color\n",
    "#     plt.rcParams['ytick.color'] = color\n",
    "#     plt.rcParams['axes.labelcolor'] = color\n",
    "    \n",
    "    #     plt.rcParams['text.color'] = 'w'\n",
    "    #     plt.rcParams['legend.facecolor'] = '#2f3540'\n",
    "    #     plt.rcParams['xtick.color'] = 'w'\n",
    "    #     plt.rcParams['ytick.color'] = 'w'\n",
    "    #     plt.rcParams['axes.labelcolor'] = 'w'\n",
    "    qs.reports.html(returns, benchmark)"
   ]
  }
 ],
 "metadata": {
  "kernelspec": {
   "display_name": "py37",
   "language": "python",
   "name": "py37"
  },
  "language_info": {
   "codemirror_mode": {
    "name": "ipython",
    "version": 3
   },
   "file_extension": ".py",
   "mimetype": "text/x-python",
   "name": "python",
   "nbconvert_exporter": "python",
   "pygments_lexer": "ipython3",
   "version": "3.7.9"
  },
  "toc": {
   "base_numbering": 1,
   "nav_menu": {},
   "number_sections": true,
   "sideBar": true,
   "skip_h1_title": false,
   "title_cell": "Table of Contents",
   "title_sidebar": "Contents",
   "toc_cell": false,
   "toc_position": {
    "height": "calc(100% - 180px)",
    "left": "10px",
    "top": "150px",
    "width": "320px"
   },
   "toc_section_display": true,
   "toc_window_display": false
  },
  "varInspector": {
   "cols": {
    "lenName": "8",
    "lenType": 16,
    "lenVar": 40
   },
   "kernels_config": {
    "python": {
     "delete_cmd_postfix": "",
     "delete_cmd_prefix": "del ",
     "library": "var_list.py",
     "varRefreshCmd": "print(var_dic_list())"
    },
    "r": {
     "delete_cmd_postfix": ") ",
     "delete_cmd_prefix": "rm(",
     "library": "var_list.r",
     "varRefreshCmd": "cat(var_dic_list()) "
    }
   },
   "types_to_exclude": [
    "module",
    "function",
    "builtin_function_or_method",
    "instance",
    "_Feature"
   ],
   "window_display": false
  }
 },
 "nbformat": 4,
 "nbformat_minor": 4
}
